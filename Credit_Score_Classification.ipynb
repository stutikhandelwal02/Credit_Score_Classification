{
  "nbformat": 4,
  "nbformat_minor": 0,
  "metadata": {
    "colab": {
      "name": "Credit_Score_Classification.ipynb",
      "provenance": [],
      "collapsed_sections": [],
      "authorship_tag": "ABX9TyPpcOh056yfMlA+I51ucykl",
      "include_colab_link": true
    },
    "kernelspec": {
      "name": "python3",
      "display_name": "Python 3"
    },
    "language_info": {
      "name": "python"
    }
  },
  "cells": [
    {
      "cell_type": "markdown",
      "metadata": {
        "id": "view-in-github",
        "colab_type": "text"
      },
      "source": [
        "<a href=\"https://colab.research.google.com/github/stutikhandelwal02/Credit_Score_Classification/blob/main/Credit_Score_Classification.ipynb\" target=\"_parent\"><img src=\"https://colab.research.google.com/assets/colab-badge.svg\" alt=\"Open In Colab\"/></a>"
      ]
    },
    {
      "cell_type": "code",
      "execution_count": null,
      "metadata": {
        "id": "X-OvmFOMXJi6"
      },
      "outputs": [],
      "source": [
        "#import modules\n",
        "import numpy as np\n",
        "import pandas as pd\n",
        "from sklearn.impute import SimpleImputer\n",
        "import matplotlib.pyplot as plt\n",
        "import seaborn as sns\n",
        "%matplotlib inline"
      ]
    },
    {
      "cell_type": "code",
      "source": [
        "dataset = pd.read_csv('/content/Credit_Score_Classification.csv')"
      ],
      "metadata": {
        "colab": {
          "base_uri": "https://localhost:8080/"
        },
        "id": "qK0PgWzuXTFt",
        "outputId": "93c13e4b-6b2f-4131-9032-fdf00adcc954"
      },
      "execution_count": 330,
      "outputs": [
        {
          "output_type": "stream",
          "name": "stderr",
          "text": [
            "/usr/local/lib/python3.7/dist-packages/IPython/core/interactiveshell.py:2882: DtypeWarning: Columns (26) have mixed types.Specify dtype option on import or set low_memory=False.\n",
            "  exec(code_obj, self.user_global_ns, self.user_ns)\n"
          ]
        }
      ]
    },
    {
      "cell_type": "code",
      "source": [
        "dataset.head()"
      ],
      "metadata": {
        "colab": {
          "base_uri": "https://localhost:8080/",
          "height": 473
        },
        "id": "mJhBUCzQXZWO",
        "outputId": "95ea65ad-2c9c-4df7-edec-615bc9972aa9"
      },
      "execution_count": 285,
      "outputs": [
        {
          "output_type": "execute_result",
          "data": {
            "text/plain": [
              "       ID Customer_ID     Month           Name   Age          SSN Occupation  \\\n",
              "0  0x1602   CUS_0xd40   January  Aaron Maashoh    23  821-00-0265  Scientist   \n",
              "1  0x1603   CUS_0xd40  February  Aaron Maashoh    23  821-00-0265  Scientist   \n",
              "2  0x1604   CUS_0xd40     March  Aaron Maashoh  -500  821-00-0265  Scientist   \n",
              "3  0x1605   CUS_0xd40     April  Aaron Maashoh    23  821-00-0265  Scientist   \n",
              "4  0x1606   CUS_0xd40       May  Aaron Maashoh    23  821-00-0265  Scientist   \n",
              "\n",
              "  Annual_Income  Monthly_Inhand_Salary  Num_Bank_Accounts  ...  Credit_Mix  \\\n",
              "0      19114.12            1824.843333                  3  ...           _   \n",
              "1      19114.12                    NaN                  3  ...        Good   \n",
              "2      19114.12                    NaN                  3  ...        Good   \n",
              "3      19114.12                    NaN                  3  ...        Good   \n",
              "4      19114.12            1824.843333                  3  ...        Good   \n",
              "\n",
              "   Outstanding_Debt Credit_Utilization_Ratio     Credit_History_Age  \\\n",
              "0            809.98                26.822620  22 Years and 1 Months   \n",
              "1            809.98                31.944960                    NaN   \n",
              "2            809.98                28.609352  22 Years and 3 Months   \n",
              "3            809.98                31.377862  22 Years and 4 Months   \n",
              "4            809.98                24.797347  22 Years and 5 Months   \n",
              "\n",
              "   Payment_of_Min_Amount Total_EMI_per_month Amount_invested_monthly  \\\n",
              "0                     No           49.574949       80.41529543900253   \n",
              "1                     No           49.574949      118.28022162236736   \n",
              "2                     No           49.574949         81.699521264648   \n",
              "3                     No           49.574949       199.4580743910713   \n",
              "4                     No           49.574949      41.420153086217326   \n",
              "\n",
              "                  Payment_Behaviour     Monthly_Balance Credit_Score  \n",
              "0   High_spent_Small_value_payments  312.49408867943663         Good  \n",
              "1    Low_spent_Large_value_payments  284.62916249607184         Good  \n",
              "2   Low_spent_Medium_value_payments   331.2098628537912         Good  \n",
              "3    Low_spent_Small_value_payments  223.45130972736786         Good  \n",
              "4  High_spent_Medium_value_payments  341.48923103222177         Good  \n",
              "\n",
              "[5 rows x 28 columns]"
            ],
            "text/html": [
              "\n",
              "  <div id=\"df-a6ccaf91-1130-4047-b968-42a8254fa6b6\">\n",
              "    <div class=\"colab-df-container\">\n",
              "      <div>\n",
              "<style scoped>\n",
              "    .dataframe tbody tr th:only-of-type {\n",
              "        vertical-align: middle;\n",
              "    }\n",
              "\n",
              "    .dataframe tbody tr th {\n",
              "        vertical-align: top;\n",
              "    }\n",
              "\n",
              "    .dataframe thead th {\n",
              "        text-align: right;\n",
              "    }\n",
              "</style>\n",
              "<table border=\"1\" class=\"dataframe\">\n",
              "  <thead>\n",
              "    <tr style=\"text-align: right;\">\n",
              "      <th></th>\n",
              "      <th>ID</th>\n",
              "      <th>Customer_ID</th>\n",
              "      <th>Month</th>\n",
              "      <th>Name</th>\n",
              "      <th>Age</th>\n",
              "      <th>SSN</th>\n",
              "      <th>Occupation</th>\n",
              "      <th>Annual_Income</th>\n",
              "      <th>Monthly_Inhand_Salary</th>\n",
              "      <th>Num_Bank_Accounts</th>\n",
              "      <th>...</th>\n",
              "      <th>Credit_Mix</th>\n",
              "      <th>Outstanding_Debt</th>\n",
              "      <th>Credit_Utilization_Ratio</th>\n",
              "      <th>Credit_History_Age</th>\n",
              "      <th>Payment_of_Min_Amount</th>\n",
              "      <th>Total_EMI_per_month</th>\n",
              "      <th>Amount_invested_monthly</th>\n",
              "      <th>Payment_Behaviour</th>\n",
              "      <th>Monthly_Balance</th>\n",
              "      <th>Credit_Score</th>\n",
              "    </tr>\n",
              "  </thead>\n",
              "  <tbody>\n",
              "    <tr>\n",
              "      <th>0</th>\n",
              "      <td>0x1602</td>\n",
              "      <td>CUS_0xd40</td>\n",
              "      <td>January</td>\n",
              "      <td>Aaron Maashoh</td>\n",
              "      <td>23</td>\n",
              "      <td>821-00-0265</td>\n",
              "      <td>Scientist</td>\n",
              "      <td>19114.12</td>\n",
              "      <td>1824.843333</td>\n",
              "      <td>3</td>\n",
              "      <td>...</td>\n",
              "      <td>_</td>\n",
              "      <td>809.98</td>\n",
              "      <td>26.822620</td>\n",
              "      <td>22 Years and 1 Months</td>\n",
              "      <td>No</td>\n",
              "      <td>49.574949</td>\n",
              "      <td>80.41529543900253</td>\n",
              "      <td>High_spent_Small_value_payments</td>\n",
              "      <td>312.49408867943663</td>\n",
              "      <td>Good</td>\n",
              "    </tr>\n",
              "    <tr>\n",
              "      <th>1</th>\n",
              "      <td>0x1603</td>\n",
              "      <td>CUS_0xd40</td>\n",
              "      <td>February</td>\n",
              "      <td>Aaron Maashoh</td>\n",
              "      <td>23</td>\n",
              "      <td>821-00-0265</td>\n",
              "      <td>Scientist</td>\n",
              "      <td>19114.12</td>\n",
              "      <td>NaN</td>\n",
              "      <td>3</td>\n",
              "      <td>...</td>\n",
              "      <td>Good</td>\n",
              "      <td>809.98</td>\n",
              "      <td>31.944960</td>\n",
              "      <td>NaN</td>\n",
              "      <td>No</td>\n",
              "      <td>49.574949</td>\n",
              "      <td>118.28022162236736</td>\n",
              "      <td>Low_spent_Large_value_payments</td>\n",
              "      <td>284.62916249607184</td>\n",
              "      <td>Good</td>\n",
              "    </tr>\n",
              "    <tr>\n",
              "      <th>2</th>\n",
              "      <td>0x1604</td>\n",
              "      <td>CUS_0xd40</td>\n",
              "      <td>March</td>\n",
              "      <td>Aaron Maashoh</td>\n",
              "      <td>-500</td>\n",
              "      <td>821-00-0265</td>\n",
              "      <td>Scientist</td>\n",
              "      <td>19114.12</td>\n",
              "      <td>NaN</td>\n",
              "      <td>3</td>\n",
              "      <td>...</td>\n",
              "      <td>Good</td>\n",
              "      <td>809.98</td>\n",
              "      <td>28.609352</td>\n",
              "      <td>22 Years and 3 Months</td>\n",
              "      <td>No</td>\n",
              "      <td>49.574949</td>\n",
              "      <td>81.699521264648</td>\n",
              "      <td>Low_spent_Medium_value_payments</td>\n",
              "      <td>331.2098628537912</td>\n",
              "      <td>Good</td>\n",
              "    </tr>\n",
              "    <tr>\n",
              "      <th>3</th>\n",
              "      <td>0x1605</td>\n",
              "      <td>CUS_0xd40</td>\n",
              "      <td>April</td>\n",
              "      <td>Aaron Maashoh</td>\n",
              "      <td>23</td>\n",
              "      <td>821-00-0265</td>\n",
              "      <td>Scientist</td>\n",
              "      <td>19114.12</td>\n",
              "      <td>NaN</td>\n",
              "      <td>3</td>\n",
              "      <td>...</td>\n",
              "      <td>Good</td>\n",
              "      <td>809.98</td>\n",
              "      <td>31.377862</td>\n",
              "      <td>22 Years and 4 Months</td>\n",
              "      <td>No</td>\n",
              "      <td>49.574949</td>\n",
              "      <td>199.4580743910713</td>\n",
              "      <td>Low_spent_Small_value_payments</td>\n",
              "      <td>223.45130972736786</td>\n",
              "      <td>Good</td>\n",
              "    </tr>\n",
              "    <tr>\n",
              "      <th>4</th>\n",
              "      <td>0x1606</td>\n",
              "      <td>CUS_0xd40</td>\n",
              "      <td>May</td>\n",
              "      <td>Aaron Maashoh</td>\n",
              "      <td>23</td>\n",
              "      <td>821-00-0265</td>\n",
              "      <td>Scientist</td>\n",
              "      <td>19114.12</td>\n",
              "      <td>1824.843333</td>\n",
              "      <td>3</td>\n",
              "      <td>...</td>\n",
              "      <td>Good</td>\n",
              "      <td>809.98</td>\n",
              "      <td>24.797347</td>\n",
              "      <td>22 Years and 5 Months</td>\n",
              "      <td>No</td>\n",
              "      <td>49.574949</td>\n",
              "      <td>41.420153086217326</td>\n",
              "      <td>High_spent_Medium_value_payments</td>\n",
              "      <td>341.48923103222177</td>\n",
              "      <td>Good</td>\n",
              "    </tr>\n",
              "  </tbody>\n",
              "</table>\n",
              "<p>5 rows × 28 columns</p>\n",
              "</div>\n",
              "      <button class=\"colab-df-convert\" onclick=\"convertToInteractive('df-a6ccaf91-1130-4047-b968-42a8254fa6b6')\"\n",
              "              title=\"Convert this dataframe to an interactive table.\"\n",
              "              style=\"display:none;\">\n",
              "        \n",
              "  <svg xmlns=\"http://www.w3.org/2000/svg\" height=\"24px\"viewBox=\"0 0 24 24\"\n",
              "       width=\"24px\">\n",
              "    <path d=\"M0 0h24v24H0V0z\" fill=\"none\"/>\n",
              "    <path d=\"M18.56 5.44l.94 2.06.94-2.06 2.06-.94-2.06-.94-.94-2.06-.94 2.06-2.06.94zm-11 1L8.5 8.5l.94-2.06 2.06-.94-2.06-.94L8.5 2.5l-.94 2.06-2.06.94zm10 10l.94 2.06.94-2.06 2.06-.94-2.06-.94-.94-2.06-.94 2.06-2.06.94z\"/><path d=\"M17.41 7.96l-1.37-1.37c-.4-.4-.92-.59-1.43-.59-.52 0-1.04.2-1.43.59L10.3 9.45l-7.72 7.72c-.78.78-.78 2.05 0 2.83L4 21.41c.39.39.9.59 1.41.59.51 0 1.02-.2 1.41-.59l7.78-7.78 2.81-2.81c.8-.78.8-2.07 0-2.86zM5.41 20L4 18.59l7.72-7.72 1.47 1.35L5.41 20z\"/>\n",
              "  </svg>\n",
              "      </button>\n",
              "      \n",
              "  <style>\n",
              "    .colab-df-container {\n",
              "      display:flex;\n",
              "      flex-wrap:wrap;\n",
              "      gap: 12px;\n",
              "    }\n",
              "\n",
              "    .colab-df-convert {\n",
              "      background-color: #E8F0FE;\n",
              "      border: none;\n",
              "      border-radius: 50%;\n",
              "      cursor: pointer;\n",
              "      display: none;\n",
              "      fill: #1967D2;\n",
              "      height: 32px;\n",
              "      padding: 0 0 0 0;\n",
              "      width: 32px;\n",
              "    }\n",
              "\n",
              "    .colab-df-convert:hover {\n",
              "      background-color: #E2EBFA;\n",
              "      box-shadow: 0px 1px 2px rgba(60, 64, 67, 0.3), 0px 1px 3px 1px rgba(60, 64, 67, 0.15);\n",
              "      fill: #174EA6;\n",
              "    }\n",
              "\n",
              "    [theme=dark] .colab-df-convert {\n",
              "      background-color: #3B4455;\n",
              "      fill: #D2E3FC;\n",
              "    }\n",
              "\n",
              "    [theme=dark] .colab-df-convert:hover {\n",
              "      background-color: #434B5C;\n",
              "      box-shadow: 0px 1px 3px 1px rgba(0, 0, 0, 0.15);\n",
              "      filter: drop-shadow(0px 1px 2px rgba(0, 0, 0, 0.3));\n",
              "      fill: #FFFFFF;\n",
              "    }\n",
              "  </style>\n",
              "\n",
              "      <script>\n",
              "        const buttonEl =\n",
              "          document.querySelector('#df-a6ccaf91-1130-4047-b968-42a8254fa6b6 button.colab-df-convert');\n",
              "        buttonEl.style.display =\n",
              "          google.colab.kernel.accessAllowed ? 'block' : 'none';\n",
              "\n",
              "        async function convertToInteractive(key) {\n",
              "          const element = document.querySelector('#df-a6ccaf91-1130-4047-b968-42a8254fa6b6');\n",
              "          const dataTable =\n",
              "            await google.colab.kernel.invokeFunction('convertToInteractive',\n",
              "                                                     [key], {});\n",
              "          if (!dataTable) return;\n",
              "\n",
              "          const docLinkHtml = 'Like what you see? Visit the ' +\n",
              "            '<a target=\"_blank\" href=https://colab.research.google.com/notebooks/data_table.ipynb>data table notebook</a>'\n",
              "            + ' to learn more about interactive tables.';\n",
              "          element.innerHTML = '';\n",
              "          dataTable['output_type'] = 'display_data';\n",
              "          await google.colab.output.renderOutput(dataTable, element);\n",
              "          const docLink = document.createElement('div');\n",
              "          docLink.innerHTML = docLinkHtml;\n",
              "          element.appendChild(docLink);\n",
              "        }\n",
              "      </script>\n",
              "    </div>\n",
              "  </div>\n",
              "  "
            ]
          },
          "metadata": {},
          "execution_count": 285
        }
      ]
    },
    {
      "cell_type": "code",
      "source": [
        "dataset.shape"
      ],
      "metadata": {
        "colab": {
          "base_uri": "https://localhost:8080/"
        },
        "id": "g6zDDzJ1Xcdq",
        "outputId": "fae7d43d-214b-41bd-b9b7-3b0c184ed502"
      },
      "execution_count": null,
      "outputs": [
        {
          "output_type": "execute_result",
          "data": {
            "text/plain": [
              "(100000, 28)"
            ]
          },
          "metadata": {},
          "execution_count": 4
        }
      ]
    },
    {
      "cell_type": "code",
      "source": [
        "dataset.info()"
      ],
      "metadata": {
        "colab": {
          "base_uri": "https://localhost:8080/"
        },
        "id": "T6Mg9iAWXgNe",
        "outputId": "c765a849-e568-43d7-a8c1-fe89893f42c5"
      },
      "execution_count": null,
      "outputs": [
        {
          "output_type": "stream",
          "name": "stdout",
          "text": [
            "<class 'pandas.core.frame.DataFrame'>\n",
            "RangeIndex: 100000 entries, 0 to 99999\n",
            "Data columns (total 28 columns):\n",
            " #   Column                    Non-Null Count   Dtype  \n",
            "---  ------                    --------------   -----  \n",
            " 0   ID                        100000 non-null  object \n",
            " 1   Customer_ID               100000 non-null  object \n",
            " 2   Month                     100000 non-null  object \n",
            " 3   Name                      90015 non-null   object \n",
            " 4   Age                       100000 non-null  object \n",
            " 5   SSN                       100000 non-null  object \n",
            " 6   Occupation                100000 non-null  object \n",
            " 7   Annual_Income             100000 non-null  object \n",
            " 8   Monthly_Inhand_Salary     84998 non-null   float64\n",
            " 9   Num_Bank_Accounts         100000 non-null  int64  \n",
            " 10  Num_Credit_Card           100000 non-null  int64  \n",
            " 11  Interest_Rate             100000 non-null  int64  \n",
            " 12  Num_of_Loan               100000 non-null  object \n",
            " 13  Type_of_Loan              88592 non-null   object \n",
            " 14  Delay_from_due_date       100000 non-null  int64  \n",
            " 15  Num_of_Delayed_Payment    92998 non-null   object \n",
            " 16  Changed_Credit_Limit      100000 non-null  object \n",
            " 17  Num_Credit_Inquiries      98035 non-null   float64\n",
            " 18  Credit_Mix                100000 non-null  object \n",
            " 19  Outstanding_Debt          100000 non-null  object \n",
            " 20  Credit_Utilization_Ratio  100000 non-null  float64\n",
            " 21  Credit_History_Age        90970 non-null   object \n",
            " 22  Payment_of_Min_Amount     100000 non-null  object \n",
            " 23  Total_EMI_per_month       100000 non-null  float64\n",
            " 24  Amount_invested_monthly   95521 non-null   object \n",
            " 25  Payment_Behaviour         100000 non-null  object \n",
            " 26  Monthly_Balance           98800 non-null   object \n",
            " 27  Credit_Score              100000 non-null  object \n",
            "dtypes: float64(4), int64(4), object(20)\n",
            "memory usage: 21.4+ MB\n"
          ]
        }
      ]
    },
    {
      "cell_type": "code",
      "source": [
        "#Checking null values in dataset\n",
        "dataset.isnull().sum()"
      ],
      "metadata": {
        "colab": {
          "base_uri": "https://localhost:8080/"
        },
        "id": "_Tc-uK52Xk2B",
        "outputId": "964d2e66-0887-42ec-c642-0abf7cf42459"
      },
      "execution_count": 286,
      "outputs": [
        {
          "output_type": "execute_result",
          "data": {
            "text/plain": [
              "ID                              0\n",
              "Customer_ID                     0\n",
              "Month                           0\n",
              "Name                         9985\n",
              "Age                             0\n",
              "SSN                             0\n",
              "Occupation                      0\n",
              "Annual_Income                   0\n",
              "Monthly_Inhand_Salary       15002\n",
              "Num_Bank_Accounts               0\n",
              "Num_Credit_Card                 0\n",
              "Interest_Rate                   0\n",
              "Num_of_Loan                     0\n",
              "Type_of_Loan                11408\n",
              "Delay_from_due_date             0\n",
              "Num_of_Delayed_Payment       7002\n",
              "Changed_Credit_Limit            0\n",
              "Num_Credit_Inquiries         1965\n",
              "Credit_Mix                      0\n",
              "Outstanding_Debt                0\n",
              "Credit_Utilization_Ratio        0\n",
              "Credit_History_Age           9030\n",
              "Payment_of_Min_Amount           0\n",
              "Total_EMI_per_month             0\n",
              "Amount_invested_monthly      4479\n",
              "Payment_Behaviour               0\n",
              "Monthly_Balance              1200\n",
              "Credit_Score                    0\n",
              "dtype: int64"
            ]
          },
          "metadata": {},
          "execution_count": 286
        }
      ]
    },
    {
      "cell_type": "code",
      "source": [
        "# Checking for duplicate values in dataset\n",
        "dataset.duplicated().sum()"
      ],
      "metadata": {
        "colab": {
          "base_uri": "https://localhost:8080/"
        },
        "id": "e_O1jdITXnsk",
        "outputId": "7b3f432f-bc23-4ac0-e704-ef11f26c3a8e"
      },
      "execution_count": 287,
      "outputs": [
        {
          "output_type": "execute_result",
          "data": {
            "text/plain": [
              "0"
            ]
          },
          "metadata": {},
          "execution_count": 287
        }
      ]
    },
    {
      "cell_type": "code",
      "source": [
        "df_columns = dataset.describe(include='O').columns"
      ],
      "metadata": {
        "id": "kLajZR5GXqMa"
      },
      "execution_count": 288,
      "outputs": []
    },
    {
      "cell_type": "code",
      "source": [
        "# analysing all the columns\n",
        "for col in df_columns:\n",
        "    print('Column Name : '+ col)\n",
        "    print(dataset[col].value_counts(dropna=False))\n",
        "    print('\\n\\n\\n')"
      ],
      "metadata": {
        "colab": {
          "base_uri": "https://localhost:8080/"
        },
        "id": "MW34qTL4Xs5b",
        "outputId": "e28f5184-5fcb-4b04-9ac3-d5a61585e7f2"
      },
      "execution_count": 289,
      "outputs": [
        {
          "output_type": "stream",
          "name": "stdout",
          "text": [
            "Column Name : ID\n",
            "0x1602     1\n",
            "0x19c88    1\n",
            "0x19caa    1\n",
            "0x19ca5    1\n",
            "0x19ca4    1\n",
            "          ..\n",
            "0xd94d     1\n",
            "0xd94c     1\n",
            "0xd94b     1\n",
            "0xd94a     1\n",
            "0x25fed    1\n",
            "Name: ID, Length: 100000, dtype: int64\n",
            "\n",
            "\n",
            "\n",
            "\n",
            "Column Name : Customer_ID\n",
            "CUS_0xd40     8\n",
            "CUS_0x9bf4    8\n",
            "CUS_0x5ae3    8\n",
            "CUS_0xbe9a    8\n",
            "CUS_0x4874    8\n",
            "             ..\n",
            "CUS_0x2eb4    8\n",
            "CUS_0x7863    8\n",
            "CUS_0x9d89    8\n",
            "CUS_0xc045    8\n",
            "CUS_0x942c    8\n",
            "Name: Customer_ID, Length: 12500, dtype: int64\n",
            "\n",
            "\n",
            "\n",
            "\n",
            "Column Name : Month\n",
            "January     12500\n",
            "February    12500\n",
            "March       12500\n",
            "April       12500\n",
            "May         12500\n",
            "June        12500\n",
            "July        12500\n",
            "August      12500\n",
            "Name: Month, dtype: int64\n",
            "\n",
            "\n",
            "\n",
            "\n",
            "Column Name : Name\n",
            "NaN               9985\n",
            "Stevex              44\n",
            "Langep              44\n",
            "Jessicad            39\n",
            "Vaughanl            39\n",
            "                  ... \n",
            "Robin Pomeroyz       4\n",
            "Matt Scuffhamk       4\n",
            "Julieno              4\n",
            "Bavierq              4\n",
            "Timothyl             3\n",
            "Name: Name, Length: 10140, dtype: int64\n",
            "\n",
            "\n",
            "\n",
            "\n",
            "Column Name : Age\n",
            "38      2833\n",
            "28      2829\n",
            "31      2806\n",
            "26      2792\n",
            "32      2749\n",
            "        ... \n",
            "471        1\n",
            "1520       1\n",
            "8663       1\n",
            "3363       1\n",
            "1342       1\n",
            "Name: Age, Length: 1788, dtype: int64\n",
            "\n",
            "\n",
            "\n",
            "\n",
            "Column Name : SSN\n",
            "#F%$D@*&8      5572\n",
            "078-73-5990       8\n",
            "486-78-3816       8\n",
            "750-67-7525       8\n",
            "903-50-0305       8\n",
            "               ... \n",
            "856-06-6147       4\n",
            "753-72-2651       4\n",
            "331-28-1921       4\n",
            "604-62-6133       4\n",
            "286-44-9634       4\n",
            "Name: SSN, Length: 12501, dtype: int64\n",
            "\n",
            "\n",
            "\n",
            "\n",
            "Column Name : Occupation\n",
            "_______          7062\n",
            "Lawyer           6575\n",
            "Architect        6355\n",
            "Engineer         6350\n",
            "Scientist        6299\n",
            "Mechanic         6291\n",
            "Accountant       6271\n",
            "Developer        6235\n",
            "Media_Manager    6232\n",
            "Teacher          6215\n",
            "Entrepreneur     6174\n",
            "Doctor           6087\n",
            "Journalist       6085\n",
            "Manager          5973\n",
            "Musician         5911\n",
            "Writer           5885\n",
            "Name: Occupation, dtype: int64\n",
            "\n",
            "\n",
            "\n",
            "\n",
            "Column Name : Annual_Income\n",
            "36585.12     16\n",
            "20867.67     16\n",
            "17273.83     16\n",
            "9141.63      15\n",
            "33029.66     15\n",
            "             ..\n",
            "20269.93_     1\n",
            "15157.25_     1\n",
            "44955.64_     1\n",
            "76650.12_     1\n",
            "4262933.0     1\n",
            "Name: Annual_Income, Length: 18940, dtype: int64\n",
            "\n",
            "\n",
            "\n",
            "\n",
            "Column Name : Num_of_Loan\n",
            "3        14386\n",
            "2        14250\n",
            "4        14016\n",
            "0        10380\n",
            "1        10083\n",
            "         ...  \n",
            "1320_        1\n",
            "103          1\n",
            "1444         1\n",
            "392          1\n",
            "966          1\n",
            "Name: Num_of_Loan, Length: 434, dtype: int64\n",
            "\n",
            "\n",
            "\n",
            "\n",
            "Column Name : Type_of_Loan\n",
            "NaN                                                                                                                                   11408\n",
            "Not Specified                                                                                                                          1408\n",
            "Credit-Builder Loan                                                                                                                    1280\n",
            "Personal Loan                                                                                                                          1272\n",
            "Debt Consolidation Loan                                                                                                                1264\n",
            "                                                                                                                                      ...  \n",
            "Not Specified, Mortgage Loan, Auto Loan, and Payday Loan                                                                                  8\n",
            "Payday Loan, Mortgage Loan, Debt Consolidation Loan, and Student Loan                                                                     8\n",
            "Debt Consolidation Loan, Auto Loan, Personal Loan, Debt Consolidation Loan, Student Loan, and Credit-Builder Loan                         8\n",
            "Student Loan, Auto Loan, Student Loan, Credit-Builder Loan, Home Equity Loan, Debt Consolidation Loan, and Debt Consolidation Loan        8\n",
            "Personal Loan, Auto Loan, Mortgage Loan, Student Loan, and Student Loan                                                                   8\n",
            "Name: Type_of_Loan, Length: 6261, dtype: int64\n",
            "\n",
            "\n",
            "\n",
            "\n",
            "Column Name : Num_of_Delayed_Payment\n",
            "NaN     7002\n",
            "19      5327\n",
            "17      5261\n",
            "16      5173\n",
            "10      5153\n",
            "        ... \n",
            "848_       1\n",
            "4134       1\n",
            "1530       1\n",
            "1502       1\n",
            "2047       1\n",
            "Name: Num_of_Delayed_Payment, Length: 750, dtype: int64\n",
            "\n",
            "\n",
            "\n",
            "\n",
            "Column Name : Changed_Credit_Limit\n",
            "_                     2091\n",
            "8.22                   133\n",
            "11.5                   127\n",
            "11.32                  126\n",
            "7.35                   121\n",
            "                      ... \n",
            "-1.84                    1\n",
            "0.8899999999999999       1\n",
            "28.06                    1\n",
            "1.5599999999999996       1\n",
            "21.17                    1\n",
            "Name: Changed_Credit_Limit, Length: 4384, dtype: int64\n",
            "\n",
            "\n",
            "\n",
            "\n",
            "Column Name : Credit_Mix\n",
            "Standard    36479\n",
            "Good        24337\n",
            "_           20195\n",
            "Bad         18989\n",
            "Name: Credit_Mix, dtype: int64\n",
            "\n",
            "\n",
            "\n",
            "\n",
            "Column Name : Outstanding_Debt\n",
            "1360.45     24\n",
            "460.46      23\n",
            "1151.7      23\n",
            "1109.03     23\n",
            "467.7       16\n",
            "            ..\n",
            "245.46_      1\n",
            "645.77_      1\n",
            "174.79_      1\n",
            "1181.13_     1\n",
            "1013.53_     1\n",
            "Name: Outstanding_Debt, Length: 13178, dtype: int64\n",
            "\n",
            "\n",
            "\n",
            "\n",
            "Column Name : Credit_History_Age\n",
            "NaN                       9030\n",
            "15 Years and 11 Months     446\n",
            "19 Years and 4 Months      445\n",
            "19 Years and 5 Months      444\n",
            "17 Years and 11 Months     443\n",
            "                          ... \n",
            "0 Years and 3 Months        20\n",
            "0 Years and 2 Months        15\n",
            "33 Years and 7 Months       14\n",
            "33 Years and 8 Months       12\n",
            "0 Years and 1 Months         2\n",
            "Name: Credit_History_Age, Length: 405, dtype: int64\n",
            "\n",
            "\n",
            "\n",
            "\n",
            "Column Name : Payment_of_Min_Amount\n",
            "Yes    52326\n",
            "No     35667\n",
            "NM     12007\n",
            "Name: Payment_of_Min_Amount, dtype: int64\n",
            "\n",
            "\n",
            "\n",
            "\n",
            "Column Name : Amount_invested_monthly\n",
            "NaN                   4479\n",
            "__10000__             4305\n",
            "0.0                    169\n",
            "36.66235139442514        1\n",
            "89.7384893604547         1\n",
            "                      ... \n",
            "36.541908593249026       1\n",
            "93.45116318631192        1\n",
            "140.80972223052834       1\n",
            "38.73937670100975        1\n",
            "167.1638651610451        1\n",
            "Name: Amount_invested_monthly, Length: 91050, dtype: int64\n",
            "\n",
            "\n",
            "\n",
            "\n",
            "Column Name : Payment_Behaviour\n",
            "Low_spent_Small_value_payments      25513\n",
            "High_spent_Medium_value_payments    17540\n",
            "Low_spent_Medium_value_payments     13861\n",
            "High_spent_Large_value_payments     13721\n",
            "High_spent_Small_value_payments     11340\n",
            "Low_spent_Large_value_payments      10425\n",
            "!@9#%8                               7600\n",
            "Name: Payment_Behaviour, dtype: int64\n",
            "\n",
            "\n",
            "\n",
            "\n",
            "Column Name : Monthly_Balance\n",
            "NaN                                 1200\n",
            "__-333333333333333333333333333__       9\n",
            "312.49408867943663                     1\n",
            "347.413889978152                       1\n",
            "254.9709216273975                      1\n",
            "                                    ... \n",
            "366.2890379762706                      1\n",
            "151.1882696261166                      1\n",
            "306.75027851710234                     1\n",
            "278.8720257394474                      1\n",
            "393.6736955618808                      1\n",
            "Name: Monthly_Balance, Length: 98793, dtype: int64\n",
            "\n",
            "\n",
            "\n",
            "\n",
            "Column Name : Credit_Score\n",
            "Standard    53174\n",
            "Poor        28998\n",
            "Good        17828\n",
            "Name: Credit_Score, dtype: int64\n",
            "\n",
            "\n",
            "\n",
            "\n"
          ]
        }
      ]
    },
    {
      "cell_type": "code",
      "source": [
        "# Replacing all values with null\n",
        "dataset = dataset.applymap(lambda x: x if x is np.NaN or not isinstance(x, str) else str(x).strip('_ ,\"')).replace(['', 'nan', '!@9#%8', '#F%$D@*&8'], np.NaN)\n"
      ],
      "metadata": {
        "id": "mocPvFntXyU-"
      },
      "execution_count": 331,
      "outputs": []
    },
    {
      "cell_type": "code",
      "source": [
        "# Replacing invalid age values with null\n",
        "age_list=[abs(int(i)) for i in dataset.Age.tolist()]\n",
        "new_age=[i if i<=150 else np.NaN for i in age_list]\n",
        "dataset['Age'] = new_age\n",
        "dataset.Age"
      ],
      "metadata": {
        "colab": {
          "base_uri": "https://localhost:8080/"
        },
        "id": "rSrp9AMBgUdy",
        "outputId": "babcc0e8-7cb7-4d0b-8782-e3a4359249a3"
      },
      "execution_count": 332,
      "outputs": [
        {
          "output_type": "execute_result",
          "data": {
            "text/plain": [
              "0        23.0\n",
              "1        23.0\n",
              "2         NaN\n",
              "3        23.0\n",
              "4        23.0\n",
              "         ... \n",
              "99995    25.0\n",
              "99996    25.0\n",
              "99997    25.0\n",
              "99998    25.0\n",
              "99999    25.0\n",
              "Name: Age, Length: 100000, dtype: float64"
            ]
          },
          "metadata": {},
          "execution_count": 332
        }
      ]
    },
    {
      "cell_type": "code",
      "source": [
        "#handling datatypes\n",
        "dataset['ID'] = dataset.ID.apply(lambda x: int(x, 16))\n",
        "\n",
        "dataset['Annual_Income'] = dataset.Annual_Income.astype(float)\n",
        "\n",
        "dataset['Num_of_Loan'] = dataset.Num_of_Loan.astype(int) \n",
        "\n",
        "dataset['Num_of_Delayed_Payment'] = dataset.Num_of_Delayed_Payment.astype(float)\n",
        "\n",
        "dataset['Changed_Credit_Limit'] = dataset.Changed_Credit_Limit.astype(float)\n",
        "\n",
        "dataset['Outstanding_Debt'] = dataset.Outstanding_Debt.astype(float)\n",
        "\n",
        "dataset['Amount_invested_monthly'] = dataset.Amount_invested_monthly.astype(float)\n",
        "\n",
        "dataset['Monthly_Balance'] = dataset.Monthly_Balance.astype(float)"
      ],
      "metadata": {
        "id": "HUo1ms7eYApE"
      },
      "execution_count": 333,
      "outputs": []
    },
    {
      "cell_type": "code",
      "source": [
        "#Target Feature Description\n",
        "plt.figure(figsize=(10,5))\n",
        "\n",
        "#pie chart\n",
        "plt.subplot(1,2,1)\n",
        "label = dataset.Credit_Score.value_counts().index\n",
        "label_count = dataset.Credit_Score.value_counts().values\n",
        "plt.pie(data=dataset, x=label_count, labels=label, autopct='%1.1f%%', radius=1)\n",
        "\n",
        "#count plot\n",
        "plt.subplot(1,2,2)\n",
        "sns.countplot(x='Credit_Score', data=dataset)\n",
        "plt.title('Target feature distribution of data')"
      ],
      "metadata": {
        "colab": {
          "base_uri": "https://localhost:8080/",
          "height": 368
        },
        "id": "uU8ntSOlZZ48",
        "outputId": "fdd5117b-e2bf-463f-c96a-8910f23e6ed4"
      },
      "execution_count": 334,
      "outputs": [
        {
          "output_type": "execute_result",
          "data": {
            "text/plain": [
              "Text(0.5, 1.0, 'Target feature distribution of data')"
            ]
          },
          "metadata": {},
          "execution_count": 334
        },
        {
          "output_type": "display_data",
          "data": {
            "text/plain": [
              "<Figure size 720x360 with 2 Axes>"
            ],
            "image/png": "[encoded data removed]"
          },
          "metadata": {
            "needs_background": "light"
          }
        }
      ]
    },
    {
      "cell_type": "code",
      "source": [
        "good=dataset[dataset['Credit_Score'] =='Good']\n",
        "poor=dataset[dataset['Credit_Score'] =='Poor']\n",
        "std=dataset[dataset['Credit_Score'] =='Standard']"
      ],
      "metadata": {
        "id": "oa0KrhvSY5vL"
      },
      "execution_count": 300,
      "outputs": []
    },
    {
      "cell_type": "code",
      "source": [
        "dataset.info()"
      ],
      "metadata": {
        "colab": {
          "base_uri": "https://localhost:8080/"
        },
        "id": "A4wxKxpdbA86",
        "outputId": "09bc34ed-6676-40cb-b78e-f3c0086a14a5"
      },
      "execution_count": 301,
      "outputs": [
        {
          "output_type": "stream",
          "name": "stdout",
          "text": [
            "<class 'pandas.core.frame.DataFrame'>\n",
            "RangeIndex: 100000 entries, 0 to 99999\n",
            "Data columns (total 28 columns):\n",
            " #   Column                    Non-Null Count   Dtype  \n",
            "---  ------                    --------------   -----  \n",
            " 0   ID                        100000 non-null  int64  \n",
            " 1   Customer_ID               100000 non-null  object \n",
            " 2   Month                     100000 non-null  object \n",
            " 3   Name                      90015 non-null   object \n",
            " 4   Age                       97236 non-null   float64\n",
            " 5   SSN                       94428 non-null   object \n",
            " 6   Occupation                92938 non-null   object \n",
            " 7   Annual_Income             100000 non-null  float64\n",
            " 8   Monthly_Inhand_Salary     84998 non-null   float64\n",
            " 9   Num_Bank_Accounts         100000 non-null  int64  \n",
            " 10  Num_Credit_Card           100000 non-null  int64  \n",
            " 11  Interest_Rate             100000 non-null  int64  \n",
            " 12  Num_of_Loan               100000 non-null  int64  \n",
            " 13  Type_of_Loan              88592 non-null   object \n",
            " 14  Delay_from_due_date       100000 non-null  int64  \n",
            " 15  Num_of_Delayed_Payment    92998 non-null   float64\n",
            " 16  Changed_Credit_Limit      97909 non-null   float64\n",
            " 17  Num_Credit_Inquiries      98035 non-null   float64\n",
            " 18  Credit_Mix                79805 non-null   object \n",
            " 19  Outstanding_Debt          100000 non-null  float64\n",
            " 20  Credit_Utilization_Ratio  100000 non-null  float64\n",
            " 21  Credit_History_Age        90970 non-null   object \n",
            " 22  Payment_of_Min_Amount     100000 non-null  object \n",
            " 23  Total_EMI_per_month       100000 non-null  float64\n",
            " 24  Amount_invested_monthly   95521 non-null   float64\n",
            " 25  Payment_Behaviour         92400 non-null   object \n",
            " 26  Monthly_Balance           98800 non-null   float64\n",
            " 27  Credit_Score              100000 non-null  object \n",
            "dtypes: float64(11), int64(6), object(11)\n",
            "memory usage: 21.4+ MB\n"
          ]
        }
      ]
    },
    {
      "cell_type": "markdown",
      "source": [
        "Analysis of Each feature"
      ],
      "metadata": {
        "id": "RSGOZXSObbDx"
      }
    },
    {
      "cell_type": "markdown",
      "source": [
        "1. Month"
      ],
      "metadata": {
        "id": "Mf4yjzBFblg7"
      }
    },
    {
      "cell_type": "code",
      "source": [
        "dataset['Month'].value_counts()"
      ],
      "metadata": {
        "colab": {
          "base_uri": "https://localhost:8080/"
        },
        "id": "JV6EtgjKcFSx",
        "outputId": "78127437-f13d-4b90-a190-6831ae2e1e76"
      },
      "execution_count": 302,
      "outputs": [
        {
          "output_type": "execute_result",
          "data": {
            "text/plain": [
              "January     12500\n",
              "February    12500\n",
              "March       12500\n",
              "April       12500\n",
              "May         12500\n",
              "June        12500\n",
              "July        12500\n",
              "August      12500\n",
              "Name: Month, dtype: int64"
            ]
          },
          "metadata": {},
          "execution_count": 302
        }
      ]
    },
    {
      "cell_type": "code",
      "source": [
        "print(good.Month.value_counts())\n",
        "print('**'*20)\n",
        "print(poor.Month.value_counts())\n",
        "print('**'*20)\n",
        "print(std.Month.value_counts())"
      ],
      "metadata": {
        "colab": {
          "base_uri": "https://localhost:8080/"
        },
        "id": "WwcvzyJsbpln",
        "outputId": "8e3cf5e4-6bb7-444e-ba1c-e3f47c16b465"
      },
      "execution_count": 303,
      "outputs": [
        {
          "output_type": "stream",
          "name": "stdout",
          "text": [
            "August      2413\n",
            "July        2411\n",
            "June        2362\n",
            "April       2357\n",
            "May         2310\n",
            "February    2016\n",
            "March       1984\n",
            "January     1975\n",
            "Name: Month, dtype: int64\n",
            "****************************************\n",
            "June        3728\n",
            "May         3712\n",
            "April       3670\n",
            "July        3614\n",
            "August      3602\n",
            "January     3582\n",
            "March       3551\n",
            "February    3539\n",
            "Name: Month, dtype: int64\n",
            "****************************************\n",
            "March       6965\n",
            "February    6945\n",
            "January     6943\n",
            "August      6485\n",
            "May         6478\n",
            "July        6475\n",
            "April       6473\n",
            "June        6410\n",
            "Name: Month, dtype: int64\n"
          ]
        }
      ]
    },
    {
      "cell_type": "code",
      "source": [
        "#Month vs Credit Score analysis\n",
        "plt.figure(figsize=(25,5))\n",
        "plt.subplot(1,3,1)\n",
        "plt.bar(good.Month.value_counts().index,good.Month.value_counts().values)\n",
        "plt.title('Month vs Good Credit Score')\n",
        "plt.xlabel('Month')\n",
        "plt.ylabel('Credit Score')\n",
        "plt.show()\n",
        "\n",
        "plt.figure(figsize=(25,5))\n",
        "plt.subplot(1,3,2)\n",
        "plt.bar(std.Month.value_counts().index,std.Month.value_counts().values)\n",
        "plt.title('Month vs Standard Credit Score')\n",
        "plt.xlabel('Month')\n",
        "plt.ylabel('Credit Score')\n",
        "plt.show()\n",
        "\n",
        "plt.figure(figsize=(25,5))\n",
        "plt.subplot(1,3,3)\n",
        "plt.bar(poor.Month.value_counts().index,poor.Month.value_counts().values)\n",
        "plt.title('Month vs Poor Credit Score')\n",
        "plt.xlabel('Month')\n",
        "plt.ylabel('Credit Score')\n",
        "plt.show()"
      ],
      "metadata": {
        "colab": {
          "base_uri": "https://localhost:8080/",
          "height": 1000
        },
        "id": "qkjYm_xWcECA",
        "outputId": "cb4a369a-50e9-4f21-df2a-057179d89b57"
      },
      "execution_count": 309,
      "outputs": [
        {
          "output_type": "display_data",
          "data": {
            "text/plain": [
              "<Figure size 1800x360 with 1 Axes>"
            ],
            "image/png": "[encoded data removed]"
          },
          "metadata": {
            "needs_background": "light"
          }
        },
        {
          "output_type": "display_data",
          "data": {
            "text/plain": [
              "<Figure size 1800x360 with 1 Axes>"
            ],
            "image/png": "[encoded data removed]"
          },
          "metadata": {
            "needs_background": "light"
          }
        },
        {
          "output_type": "display_data",
          "data": {
            "text/plain": [
              "<Figure size 1800x360 with 1 Axes>"
            ],
            "image/png": "[encoded data removed]"
          },
          "metadata": {
            "needs_background": "light"
          }
        }
      ]
    },
    {
      "cell_type": "markdown",
      "source": [
        "By the above graph we can conclude that month does not affect dependent variable much so it can be removed for further process"
      ],
      "metadata": {
        "id": "HQHdzXZEgUME"
      }
    },
    {
      "cell_type": "markdown",
      "source": [
        "2. Age"
      ],
      "metadata": {
        "id": "NJK9S7sokUrm"
      }
    },
    {
      "cell_type": "code",
      "source": [
        "dataset['Age'].value_counts()"
      ],
      "metadata": {
        "colab": {
          "base_uri": "https://localhost:8080/"
        },
        "id": "bWfJSOW_cj_2",
        "outputId": "6c07f610-1093-421d-fc42-4aa999adefc0"
      },
      "execution_count": 83,
      "outputs": [
        {
          "output_type": "execute_result",
          "data": {
            "text/plain": [
              "38.0     2994\n",
              "28.0     2968\n",
              "31.0     2955\n",
              "26.0     2945\n",
              "32.0     2884\n",
              "36.0     2868\n",
              "35.0     2866\n",
              "25.0     2861\n",
              "27.0     2859\n",
              "39.0     2846\n",
              "34.0     2837\n",
              "44.0     2824\n",
              "19.0     2793\n",
              "22.0     2785\n",
              "41.0     2785\n",
              "20.0     2744\n",
              "37.0     2742\n",
              "29.0     2735\n",
              "43.0     2734\n",
              "30.0     2727\n",
              "21.0     2716\n",
              "24.0     2714\n",
              "23.0     2654\n",
              "45.0     2642\n",
              "40.0     2609\n",
              "42.0     2577\n",
              "33.0     2543\n",
              "18.0     2385\n",
              "46.0     1621\n",
              "15.0     1574\n",
              "17.0     1502\n",
              "16.0     1455\n",
              "48.0     1385\n",
              "49.0     1375\n",
              "55.0     1366\n",
              "52.0     1356\n",
              "53.0     1354\n",
              "54.0     1311\n",
              "51.0     1291\n",
              "50.0     1273\n",
              "47.0     1227\n",
              "14.0     1175\n",
              "56.0      362\n",
              "95.0        3\n",
              "99.0        1\n",
              "115.0       1\n",
              "109.0       1\n",
              "111.0       1\n",
              "102.0       1\n",
              "100.0       1\n",
              "123.0       1\n",
              "142.0       1\n",
              "118.0       1\n",
              "124.0       1\n",
              "126.0       1\n",
              "134.0       1\n",
              "112.0       1\n",
              "146.0       1\n",
              "Name: Age, dtype: int64"
            ]
          },
          "metadata": {},
          "execution_count": 83
        }
      ]
    },
    {
      "cell_type": "code",
      "source": [
        "print('Good : ',good['Age'].median())\n",
        "print(\"*\"*10)\n",
        "print('Standard : ',std['Age'].median())\n",
        "print(\"*\"*10)\n",
        "print('Poor : ',poor['Age'].median())"
      ],
      "metadata": {
        "colab": {
          "base_uri": "https://localhost:8080/"
        },
        "id": "alb38mQmzwt1",
        "outputId": "e2c1d22e-7f55-40b7-96be-f17df5f015ef"
      },
      "execution_count": 98,
      "outputs": [
        {
          "output_type": "stream",
          "name": "stdout",
          "text": [
            "Good :  36.0\n",
            "**********\n",
            "Standard :  33.0\n",
            "**********\n",
            "Poor :  31.0\n"
          ]
        }
      ]
    },
    {
      "cell_type": "markdown",
      "source": [
        "Here variation in median shows that Age affects Target."
      ],
      "metadata": {
        "id": "vM0fkWLz0bUJ"
      }
    },
    {
      "cell_type": "code",
      "source": [
        "bin = [i for i in range(10,70,10)]\n",
        "#Histogram of age with good credit score\n",
        "plt.figure(figsize=(16,5))\n",
        "plt.subplot(1,3,1)\n",
        "plt.title('Good Credit Score')\n",
        "plt.hist(good.Age , bins = bin,edgecolor ='black') \n",
        "plt.subplot(1,3,2)\n",
        "plt.title('Standard Credit Score')\n",
        "plt.hist(std.Age , bins = bin,edgecolor ='black')\n",
        "plt.subplot(1,3,3)\n",
        "plt.title('Poor Credit Score')\n",
        "plt.hist(poor.Age , bins = bin,edgecolor ='black')"
      ],
      "metadata": {
        "colab": {
          "base_uri": "https://localhost:8080/",
          "height": 388
        },
        "id": "kVJvzJokuKqy",
        "outputId": "a5dab315-3a67-48c5-b1c4-d946e75c59ee"
      },
      "execution_count": 310,
      "outputs": [
        {
          "output_type": "execute_result",
          "data": {
            "text/plain": [
              "(array([4245., 8660., 8580., 5752.,  968.]),\n",
              " array([10, 20, 30, 40, 50, 60]),\n",
              " <a list of 5 Patch objects>)"
            ]
          },
          "metadata": {},
          "execution_count": 310
        },
        {
          "output_type": "display_data",
          "data": {
            "text/plain": [
              "<Figure size 1152x360 with 3 Axes>"
            ],
            "image/png": "[encoded data removed]"
          },
          "metadata": {
            "needs_background": "light"
          }
        }
      ]
    },
    {
      "cell_type": "markdown",
      "source": [
        "As above figure shows old people have greater chance of having good credit score and more youngsters have medium or poor credit score, so age directly affects credit score"
      ],
      "metadata": {
        "id": "ozQWJEmw1eiN"
      }
    },
    {
      "cell_type": "markdown",
      "source": [
        "3. Occupation"
      ],
      "metadata": {
        "id": "Q2bN8E5717mq"
      }
    },
    {
      "cell_type": "code",
      "source": [
        "dataset.Occupation.value_counts()"
      ],
      "metadata": {
        "colab": {
          "base_uri": "https://localhost:8080/"
        },
        "id": "uSDizCiP2L_4",
        "outputId": "64155c2b-abd5-4182-f2cd-f90dbc0d3627"
      },
      "execution_count": 311,
      "outputs": [
        {
          "output_type": "execute_result",
          "data": {
            "text/plain": [
              "Lawyer           6575\n",
              "Architect        6355\n",
              "Engineer         6350\n",
              "Scientist        6299\n",
              "Mechanic         6291\n",
              "Accountant       6271\n",
              "Developer        6235\n",
              "Media_Manager    6232\n",
              "Teacher          6215\n",
              "Entrepreneur     6174\n",
              "Doctor           6087\n",
              "Journalist       6085\n",
              "Manager          5973\n",
              "Musician         5911\n",
              "Writer           5885\n",
              "Name: Occupation, dtype: int64"
            ]
          },
          "metadata": {},
          "execution_count": 311
        }
      ]
    },
    {
      "cell_type": "code",
      "source": [
        "print(good.Occupation.value_counts())\n",
        "print('*'*40)\n",
        "print(poor.Occupation.value_counts())\n",
        "print('*'*40)\n",
        "print(std.Occupation.value_counts())"
      ],
      "metadata": {
        "colab": {
          "base_uri": "https://localhost:8080/"
        },
        "id": "j1EMffdq2nUx",
        "outputId": "d15e91c4-a64c-48ae-81f8-444f5df71023"
      },
      "execution_count": 312,
      "outputs": [
        {
          "output_type": "stream",
          "name": "stdout",
          "text": [
            "Engineer         1182\n",
            "Journalist       1173\n",
            "Lawyer           1162\n",
            "Media_Manager    1161\n",
            "Architect        1144\n",
            "Teacher          1143\n",
            "Developer        1134\n",
            "Accountant       1128\n",
            "Scientist        1127\n",
            "Musician         1110\n",
            "Manager          1098\n",
            "Doctor           1082\n",
            "Entrepreneur     1080\n",
            "Mechanic         1024\n",
            "Writer            837\n",
            "Name: Occupation, dtype: int64\n",
            "****************************************\n",
            "Engineer         1932\n",
            "Scientist        1921\n",
            "Entrepreneur     1896\n",
            "Mechanic         1896\n",
            "Teacher          1895\n",
            "Accountant       1879\n",
            "Lawyer           1810\n",
            "Developer        1792\n",
            "Writer           1779\n",
            "Architect        1734\n",
            "Manager          1732\n",
            "Journalist       1725\n",
            "Musician         1670\n",
            "Doctor           1661\n",
            "Media_Manager    1645\n",
            "Name: Occupation, dtype: int64\n",
            "****************************************\n",
            "Lawyer           3603\n",
            "Architect        3477\n",
            "Media_Manager    3426\n",
            "Mechanic         3371\n",
            "Doctor           3344\n",
            "Developer        3309\n",
            "Writer           3269\n",
            "Accountant       3264\n",
            "Scientist        3251\n",
            "Engineer         3236\n",
            "Entrepreneur     3198\n",
            "Journalist       3187\n",
            "Teacher          3177\n",
            "Manager          3143\n",
            "Musician         3131\n",
            "Name: Occupation, dtype: int64\n"
          ]
        }
      ]
    },
    {
      "cell_type": "code",
      "source": [
        "#count plot of Occupation having good credit score\n",
        "plt.figure(figsize=(18,5))\n",
        "sns.countplot(x='Occupation', data=good)\n",
        "plt.title('Occupation Having Good Credit Score')\n",
        "\n",
        "#count plot of Occupation having Standard credit score\n",
        "plt.figure(figsize=(18,5))\n",
        "sns.countplot(x='Occupation', data=std)\n",
        "plt.title('Occupation Having Standard Credit Score')\n",
        "\n",
        "#count plot of Occupation having Poor credit score\n",
        "plt.figure(figsize=(18,5))\n",
        "sns.countplot(x='Occupation', data=poor)\n",
        "plt.title('Occupation Having Poor Credit Score')"
      ],
      "metadata": {
        "colab": {
          "base_uri": "https://localhost:8080/",
          "height": 1000
        },
        "id": "2jM4ev8J2ya6",
        "outputId": "e9748846-f227-4b04-c989-5f1b8d09d351"
      },
      "execution_count": 313,
      "outputs": [
        {
          "output_type": "execute_result",
          "data": {
            "text/plain": [
              "Text(0.5, 1.0, 'Occupation Having Poor Credit Score')"
            ]
          },
          "metadata": {},
          "execution_count": 313
        },
        {
          "output_type": "display_data",
          "data": {
            "text/plain": [
              "<Figure size 1296x360 with 1 Axes>"
            ],
            "image/png": "[encoded data removed]"
          },
          "metadata": {
            "needs_background": "light"
          }
        },
        {
          "output_type": "display_data",
          "data": {
            "text/plain": [
              "<Figure size 1296x360 with 1 Axes>"
            ],
            "image/png": "[encoded data removed]"
          },
          "metadata": {
            "needs_background": "light"
          }
        },
        {
          "output_type": "display_data",
          "data": {
            "text/plain": [
              "<Figure size 1296x360 with 1 Axes>"
            ],
            "image/png": "[encoded data removed]"
          },
          "metadata": {
            "needs_background": "light"
          }
        }
      ]
    },
    {
      "cell_type": "markdown",
      "source": [
        "4. Annual Income"
      ],
      "metadata": {
        "id": "SaAmtxkv-SWM"
      }
    },
    {
      "cell_type": "code",
      "source": [
        "print('Good : ',good['Annual_Income'].median())\n",
        "print(\"*\"*10)\n",
        "print('Standard : ',std['Annual_Income'].median())\n",
        "print(\"*\"*10)\n",
        "print('Poor : ',poor['Annual_Income'].median())"
      ],
      "metadata": {
        "colab": {
          "base_uri": "https://localhost:8080/"
        },
        "id": "h5NYUAmiEL0D",
        "outputId": "30bff482-63bc-4eb2-ecdc-3595299b64c9"
      },
      "execution_count": 316,
      "outputs": [
        {
          "output_type": "stream",
          "name": "stdout",
          "text": [
            "Good :  45536.43\n",
            "**********\n",
            "Standard :  37201.06\n",
            "**********\n",
            "Poor :  32276.42\n"
          ]
        }
      ]
    },
    {
      "cell_type": "code",
      "source": [
        "print('Good : ',good['Annual_Income'].mean())\n",
        "print(\"*\"*10)\n",
        "print('Standard : ',std['Annual_Income'].mean())\n",
        "print(\"*\"*10)\n",
        "print('Poor : ',poor['Annual_Income'].mean())"
      ],
      "metadata": {
        "colab": {
          "base_uri": "https://localhost:8080/"
        },
        "id": "SOFCGp2wEdUt",
        "outputId": "a651b8f4-2445-41da-b869-2583b278c589"
      },
      "execution_count": 315,
      "outputs": [
        {
          "output_type": "stream",
          "name": "stdout",
          "text": [
            "Good :  184936.58981013016\n",
            "**********\n",
            "Standard :  185249.1564578553\n",
            "**********\n",
            "Poor :  154979.03169839297\n"
          ]
        }
      ]
    },
    {
      "cell_type": "code",
      "source": [
        "bin = [i for i in range(100000,200000,10000)]\n",
        "plt.figure(figsize=(16,5))\n",
        "plt.subplot(1,3,1)\n",
        "plt.title('Good Credit Score')\n",
        "plt.hist(good.Annual_Income , bins = bin,edgecolor ='black') \n",
        "plt.subplot(1,3,2)\n",
        "plt.title('Standard Credit Score')\n",
        "plt.hist(std.Annual_Income , bins = bin,edgecolor ='black')\n",
        "plt.subplot(1,3,3)\n",
        "plt.title('Poor Credit Score')\n",
        "plt.hist(poor.Annual_Income , bins = bin,edgecolor ='black')\n"
      ],
      "metadata": {
        "colab": {
          "base_uri": "https://localhost:8080/",
          "height": 405
        },
        "id": "JOE8peAG-aDS",
        "outputId": "fb5911c8-7ed9-46f5-a595-9b51c06e9cd7"
      },
      "execution_count": 314,
      "outputs": [
        {
          "output_type": "execute_result",
          "data": {
            "text/plain": [
              "(array([271., 293., 379., 216., 170., 118.,  76., 125.,   0.]),\n",
              " array([100000, 110000, 120000, 130000, 140000, 150000, 160000, 170000,\n",
              "        180000, 190000]),\n",
              " <a list of 9 Patch objects>)"
            ]
          },
          "metadata": {},
          "execution_count": 314
        },
        {
          "output_type": "display_data",
          "data": {
            "text/plain": [
              "<Figure size 1152x360 with 3 Axes>"
            ],
            "image/png": "[encoded data removed]"
          },
          "metadata": {
            "needs_background": "light"
          }
        }
      ]
    },
    {
      "cell_type": "markdown",
      "source": [
        "Here it can be concluded that one having high Annual Income will have more chances of having Good credit score so, Annual Income directly affects credit score"
      ],
      "metadata": {
        "id": "bw-Jg7TsCLMy"
      }
    },
    {
      "cell_type": "markdown",
      "source": [
        "5. Monthly Inhand Salary"
      ],
      "metadata": {
        "id": "teaxvhPQCzR1"
      }
    },
    {
      "cell_type": "code",
      "source": [
        "print('Good : ',good['Monthly_Inhand_Salary'].median())\n",
        "print(\"*\"*10)\n",
        "print('Standard : ',std['Monthly_Inhand_Salary'].median())\n",
        "print(\"*\"*10)\n",
        "print('Poor : ',poor['Monthly_Inhand_Salary'].median())"
      ],
      "metadata": {
        "colab": {
          "base_uri": "https://localhost:8080/"
        },
        "id": "LI8u3gMmFv12",
        "outputId": "d9fe1113-2448-4ae9-f3b7-d3682503ccc5"
      },
      "execution_count": 317,
      "outputs": [
        {
          "output_type": "stream",
          "name": "stdout",
          "text": [
            "Good :  3820.019166666667\n",
            "**********\n",
            "Standard :  3101.080413995829\n",
            "**********\n",
            "Poor :  2671.431666666667\n"
          ]
        }
      ]
    },
    {
      "cell_type": "code",
      "source": [
        "print('Good : ',good['Monthly_Inhand_Salary'].mean())\n",
        "print(\"*\"*10)\n",
        "print('Standard : ',std['Monthly_Inhand_Salary'].mean())\n",
        "print(\"*\"*10)\n",
        "print('Poor : ',poor['Monthly_Inhand_Salary'].mean())"
      ],
      "metadata": {
        "colab": {
          "base_uri": "https://localhost:8080/"
        },
        "id": "GkKXtfP6GAvx",
        "outputId": "97f03a2a-2f38-475e-da5b-bb1c0e015d69"
      },
      "execution_count": 318,
      "outputs": [
        {
          "output_type": "stream",
          "name": "stdout",
          "text": [
            "Good :  5389.246647164293\n",
            "**********\n",
            "Standard :  4242.0370512062\n",
            "**********\n",
            "Poor :  3375.311674185473\n"
          ]
        }
      ]
    },
    {
      "cell_type": "code",
      "source": [
        "plt.figure(figsize=(16,5))\n",
        "plt.subplot(1,3,1)\n",
        "plt.title('Good Credit Score')\n",
        "plt.hist(good.Monthly_Inhand_Salary , bins = 6,edgecolor ='black') \n",
        "plt.subplot(1,3,2)\n",
        "plt.title('Standard Credit Score')\n",
        "plt.hist(std.Monthly_Inhand_Salary , bins = 6,edgecolor ='black')\n",
        "plt.subplot(1,3,3)\n",
        "plt.title('Poor Credit Score')\n",
        "plt.hist(poor.Monthly_Inhand_Salary , bins = 6,edgecolor ='black')"
      ],
      "metadata": {
        "colab": {
          "base_uri": "https://localhost:8080/",
          "height": 405
        },
        "id": "y8DHRWeDC47n",
        "outputId": "c69670a2-87fd-4e6b-ac80-7f7c5e27adc3"
      },
      "execution_count": 160,
      "outputs": [
        {
          "output_type": "execute_result",
          "data": {
            "text/plain": [
              "(array([12780.,  7091.,  3117.,   862.,   532.,   259.]),\n",
              " array([  319.55625   ,  2794.16020833,  5268.76416667,  7743.368125  ,\n",
              "        10217.97208333, 12692.57604167, 15167.18      ]),\n",
              " <a list of 6 Patch objects>)"
            ]
          },
          "metadata": {},
          "execution_count": 160
        },
        {
          "output_type": "display_data",
          "data": {
            "text/plain": [
              "<Figure size 1152x360 with 3 Axes>"
            ],
            "image/png": "[encoded data removed]"
          },
          "metadata": {
            "needs_background": "light"
          }
        }
      ]
    },
    {
      "cell_type": "markdown",
      "source": [
        "It can be concluded that one having high Monthly Inhand Salary will have more chances of having Good credit score "
      ],
      "metadata": {
        "id": "NMK93jABGLHg"
      }
    },
    {
      "cell_type": "markdown",
      "source": [
        "6. Number of Bank Accounts "
      ],
      "metadata": {
        "id": "HpYfRd3HGcrQ"
      }
    },
    {
      "cell_type": "code",
      "source": [
        "print('Good : ',good['Num_Bank_Accounts'].median())\n",
        "print(\"*\"*10)\n",
        "print('Standard : ',std['Num_Bank_Accounts'].median())\n",
        "print(\"*\"*10)\n",
        "print('Poor : ',poor['Num_Bank_Accounts'].median())"
      ],
      "metadata": {
        "colab": {
          "base_uri": "https://localhost:8080/"
        },
        "id": "ZcXQwsrGGb4O",
        "outputId": "66b44844-5ad4-4bf8-cb77-f29717bdd8ce"
      },
      "execution_count": 319,
      "outputs": [
        {
          "output_type": "stream",
          "name": "stdout",
          "text": [
            "Good :  3.0\n",
            "**********\n",
            "Standard :  5.0\n",
            "**********\n",
            "Poor :  7.0\n"
          ]
        }
      ]
    },
    {
      "cell_type": "code",
      "source": [
        "print('Good : ',good['Num_Bank_Accounts'].mean())\n",
        "print(\"*\"*10)\n",
        "print('Standard : ',std['Num_Bank_Accounts'].mean())\n",
        "print(\"*\"*10)\n",
        "print('Poor : ',poor['Num_Bank_Accounts'].mean())"
      ],
      "metadata": {
        "colab": {
          "base_uri": "https://localhost:8080/"
        },
        "id": "6X4zOXxWHSP4",
        "outputId": "a030c96d-25bf-487c-84df-4c8eb731c539"
      },
      "execution_count": 320,
      "outputs": [
        {
          "output_type": "stream",
          "name": "stdout",
          "text": [
            "Good :  15.083632488220776\n",
            "**********\n",
            "Standard :  16.873754090344907\n",
            "**********\n",
            "Poor :  18.72446375612111\n"
          ]
        }
      ]
    },
    {
      "cell_type": "code",
      "source": [
        "plt.figure(figsize=(16,5))\n",
        "plt.subplot(1,3,1)\n",
        "plt.title('Good Credit Score')\n",
        "plt.hist(good.Num_Bank_Accounts , bins = 6,edgecolor ='black') \n",
        "plt.subplot(1,3,2)\n",
        "plt.title('Standard Credit Score')\n",
        "plt.hist(std.Num_Bank_Accounts , bins = 6,edgecolor ='black')\n",
        "plt.subplot(1,3,3)\n",
        "plt.title('Poor Credit Score')\n",
        "plt.hist(poor.Num_Bank_Accounts , bins = 6,edgecolor ='black')"
      ],
      "metadata": {
        "colab": {
          "base_uri": "https://localhost:8080/",
          "height": 405
        },
        "id": "DrSbwp4gHjgi",
        "outputId": "79a871b0-2395-4737-8b4f-743ded8c0b78"
      },
      "execution_count": 321,
      "outputs": [
        {
          "output_type": "execute_result",
          "data": {
            "text/plain": [
              "(array([28665.,    67.,    81.,    55.,    58.,    72.]),\n",
              " array([-1.000e+00,  2.980e+02,  5.970e+02,  8.960e+02,  1.195e+03,\n",
              "         1.494e+03,  1.793e+03]),\n",
              " <a list of 6 Patch objects>)"
            ]
          },
          "metadata": {},
          "execution_count": 321
        },
        {
          "output_type": "display_data",
          "data": {
            "text/plain": [
              "<Figure size 1152x360 with 3 Axes>"
            ],
            "image/png": "[encoded data removed]"
          },
          "metadata": {
            "needs_background": "light"
          }
        }
      ]
    },
    {
      "cell_type": "markdown",
      "source": [
        "It can be concluded that one having less number of bank accounts will have more chances of having Good credit score."
      ],
      "metadata": {
        "id": "ZGQWU7O2H8yS"
      }
    },
    {
      "cell_type": "markdown",
      "source": [
        "7. Number of Credit Card"
      ],
      "metadata": {
        "id": "NydSdzN7IIjG"
      }
    },
    {
      "cell_type": "code",
      "source": [
        "print('Good : ',good['Num_Credit_Card'].median())\n",
        "print(\"*\"*10)\n",
        "print('Standard : ',std['Num_Credit_Card'].median())\n",
        "print(\"*\"*10)\n",
        "print('Poor : ',poor['Num_Credit_Card'].median())"
      ],
      "metadata": {
        "colab": {
          "base_uri": "https://localhost:8080/"
        },
        "id": "JYaTWgigIVwH",
        "outputId": "2f7fb9ef-41f7-4cae-bffd-2fb99ebf07eb"
      },
      "execution_count": 322,
      "outputs": [
        {
          "output_type": "stream",
          "name": "stdout",
          "text": [
            "Good :  4.0\n",
            "**********\n",
            "Standard :  5.0\n",
            "**********\n",
            "Poor :  7.0\n"
          ]
        }
      ]
    },
    {
      "cell_type": "code",
      "source": [
        "print('Good : ',good['Num_Credit_Card'].mean())\n",
        "print(\"*\"*10)\n",
        "print('Standard : ',std['Num_Credit_Card'].mean())\n",
        "print(\"*\"*10)\n",
        "print('Poor : ',poor['Num_Credit_Card'].mean())"
      ],
      "metadata": {
        "colab": {
          "base_uri": "https://localhost:8080/"
        },
        "id": "BlNllHhQH3pJ",
        "outputId": "63b8e4db-934a-4d27-fe62-ae6b4da03539"
      },
      "execution_count": 323,
      "outputs": [
        {
          "output_type": "stream",
          "name": "stdout",
          "text": [
            "Good :  21.19985416199237\n",
            "**********\n",
            "Standard :  22.079926279760784\n",
            "**********\n",
            "Poor :  23.981446996344577\n"
          ]
        }
      ]
    },
    {
      "cell_type": "code",
      "source": [
        "plt.figure(figsize=(16,5))\n",
        "plt.subplot(1,3,1)\n",
        "plt.title('Good Credit Score')\n",
        "plt.hist(good.Num_Credit_Card , bins = 6,edgecolor ='black') \n",
        "plt.subplot(1,3,2)\n",
        "plt.title('Standard Credit Score')\n",
        "plt.hist(std.Num_Credit_Card , bins = 6,edgecolor ='black')\n",
        "plt.subplot(1,3,3)\n",
        "plt.title('Poor Credit Score')\n",
        "plt.hist(poor.Num_Credit_Card , bins = 6,edgecolor ='black')"
      ],
      "metadata": {
        "colab": {
          "base_uri": "https://localhost:8080/",
          "height": 405
        },
        "id": "eiedH1sXJGoh",
        "outputId": "2085b818-d56c-43d0-b10b-c0af812ade6b"
      },
      "execution_count": 158,
      "outputs": [
        {
          "output_type": "execute_result",
          "data": {
            "text/plain": [
              "(array([28452.,   100.,    97.,   103.,   134.,   112.]),\n",
              " array([1.00000000e+00, 2.50666667e+02, 5.00333333e+02, 7.50000000e+02,\n",
              "        9.99666667e+02, 1.24933333e+03, 1.49900000e+03]),\n",
              " <a list of 6 Patch objects>)"
            ]
          },
          "metadata": {},
          "execution_count": 158
        },
        {
          "output_type": "display_data",
          "data": {
            "text/plain": [
              "<Figure size 1152x360 with 3 Axes>"
            ],
            "image/png": "[encoded data removed]"
          },
          "metadata": {
            "needs_background": "light"
          }
        }
      ]
    },
    {
      "cell_type": "markdown",
      "source": [
        "It can be concluded that one having less number of credit cards will have more chances of having Good credit score."
      ],
      "metadata": {
        "id": "awKTH9KxJG4l"
      }
    },
    {
      "cell_type": "markdown",
      "source": [
        "8. Interest Rate"
      ],
      "metadata": {
        "id": "xcGnG-7iKl41"
      }
    },
    {
      "cell_type": "code",
      "source": [
        "print('Good : ',good.Interest_Rate.median())\n",
        "print(\"*\"*10)\n",
        "print('Standard : ',std.Interest_Rate.median())\n",
        "print(\"*\"*10)\n",
        "print('Poor : ',poor.Interest_Rate.median())"
      ],
      "metadata": {
        "colab": {
          "base_uri": "https://localhost:8080/"
        },
        "id": "F36EsYJQKw-n",
        "outputId": "33af2d4c-7275-4440-9b30-92294a83771f"
      },
      "execution_count": 149,
      "outputs": [
        {
          "output_type": "stream",
          "name": "stdout",
          "text": [
            "Good :  7.0\n",
            "**********\n",
            "Standard :  13.0\n",
            "**********\n",
            "Poor :  21.0\n"
          ]
        }
      ]
    },
    {
      "cell_type": "code",
      "source": [
        "print('Good : ',good.Interest_Rate.mean())\n",
        "print(\"*\"*10)\n",
        "print('Standard : ',std.Interest_Rate.mean())\n",
        "print(\"*\"*10)\n",
        "print('Poor : ',poor.Interest_Rate.mean())"
      ],
      "metadata": {
        "colab": {
          "base_uri": "https://localhost:8080/"
        },
        "id": "n_Unf3fuLHC9",
        "outputId": "50319495-c553-4220-ee1b-dc321ecf667a"
      },
      "execution_count": 150,
      "outputs": [
        {
          "output_type": "stream",
          "name": "stdout",
          "text": [
            "Good :  73.95871662553287\n",
            "**********\n",
            "Standard :  69.93105653138753\n",
            "**********\n",
            "Poor :  76.1967721911856\n"
          ]
        }
      ]
    },
    {
      "cell_type": "code",
      "source": [
        "plt.figure(figsize=(16,5))\n",
        "plt.subplot(1,3,1)\n",
        "plt.title('Good Credit Score')\n",
        "plt.hist(good.Interest_Rate , bins = 6,edgecolor ='black') \n",
        "plt.subplot(1,3,2)\n",
        "plt.title('Standard Credit Score')\n",
        "plt.hist(std.Interest_Rate , bins = 6,edgecolor ='black')\n",
        "plt.subplot(1,3,3)\n",
        "plt.title('Poor Credit Score')\n",
        "plt.hist(poor.Interest_Rate , bins = 6,edgecolor ='black')"
      ],
      "metadata": {
        "colab": {
          "base_uri": "https://localhost:8080/",
          "height": 405
        },
        "id": "o9a3EMZ9LO1i",
        "outputId": "9c40ba07-37e0-4681-9fd4-c1f936a83c1a"
      },
      "execution_count": 157,
      "outputs": [
        {
          "output_type": "execute_result",
          "data": {
            "text/plain": [
              "(array([28506.,   112.,   105.,   101.,    90.,    84.]),\n",
              " array([1.00000000e+00, 9.63166667e+02, 1.92533333e+03, 2.88750000e+03,\n",
              "        3.84966667e+03, 4.81183333e+03, 5.77400000e+03]),\n",
              " <a list of 6 Patch objects>)"
            ]
          },
          "metadata": {},
          "execution_count": 157
        },
        {
          "output_type": "display_data",
          "data": {
            "text/plain": [
              "<Figure size 1152x360 with 3 Axes>"
            ],
            "image/png": "[encoded data removed]"
          },
          "metadata": {
            "needs_background": "light"
          }
        }
      ]
    },
    {
      "cell_type": "markdown",
      "source": [
        "It can be concluded that one having less Interest Rate will have more chances of having Good credit score."
      ],
      "metadata": {
        "id": "caV5dL5vKl9J"
      }
    },
    {
      "cell_type": "markdown",
      "source": [
        "9.Number of Loans"
      ],
      "metadata": {
        "id": "G5k6jAeAMJxn"
      }
    },
    {
      "cell_type": "code",
      "source": [
        "print('Good : ',good.Num_of_Loan.median())\n",
        "print(\"*\"*10)\n",
        "print('Standard : ',std.Num_of_Loan.median())\n",
        "print(\"*\"*10)\n",
        "print('Poor : ',poor.Num_of_Loan.median())"
      ],
      "metadata": {
        "colab": {
          "base_uri": "https://localhost:8080/"
        },
        "id": "SdmwTVnZOGVc",
        "outputId": "ab4746b1-7010-4efb-8997-c77875312afa"
      },
      "execution_count": 167,
      "outputs": [
        {
          "output_type": "stream",
          "name": "stdout",
          "text": [
            "Good :  2.0\n",
            "**********\n",
            "Standard :  3.0\n",
            "**********\n",
            "Poor :  5.0\n"
          ]
        }
      ]
    },
    {
      "cell_type": "code",
      "source": [
        "print('Good : ',good.Num_of_Loan.mean())\n",
        "print(\"*\"*10)\n",
        "print('Standard : ',std.Num_of_Loan.mean())\n",
        "print(\"*\"*10)\n",
        "print('Poor : ',poor.Num_of_Loan.mean())"
      ],
      "metadata": {
        "colab": {
          "base_uri": "https://localhost:8080/"
        },
        "id": "I5AMXfwfOGwD",
        "outputId": "b9304caf-4df4-40cc-f580-d1b7871a11eb"
      },
      "execution_count": 166,
      "outputs": [
        {
          "output_type": "stream",
          "name": "stdout",
          "text": [
            "Good :  1.7926295714606237\n",
            "**********\n",
            "Standard :  2.958081017038402\n",
            "**********\n",
            "Poor :  3.8535071384233395\n"
          ]
        }
      ]
    },
    {
      "cell_type": "code",
      "source": [
        "plt.figure(figsize=(16,5))\n",
        "bin = [i for i in range(0,501,100)]\n",
        "plt.subplot(1,3,1)\n",
        "plt.title('Good Credit Score')\n",
        "plt.hist(good.Num_of_Loan , bins = bin,edgecolor ='black') \n",
        "plt.subplot(1,3,2)\n",
        "plt.title('Standard Credit Score')\n",
        "plt.hist(std.Num_of_Loan , bins = bin,edgecolor ='black')\n",
        "plt.subplot(1,3,3)\n",
        "plt.title('Poor Credit Score')\n",
        "plt.hist(poor.Num_of_Loan , bins = bin,edgecolor ='black')"
      ],
      "metadata": {
        "colab": {
          "base_uri": "https://localhost:8080/",
          "height": 388
        },
        "id": "AAYeHtZNMOab",
        "outputId": "f5dcbf5e-0512-4c76-9798-57d349e56dd3"
      },
      "execution_count": 165,
      "outputs": [
        {
          "output_type": "execute_result",
          "data": {
            "text/plain": [
              "(array([2.7798e+04, 9.0000e+00, 1.0000e+01, 5.0000e+00, 6.0000e+00]),\n",
              " array([  0, 100, 200, 300, 400, 500]),\n",
              " <a list of 5 Patch objects>)"
            ]
          },
          "metadata": {},
          "execution_count": 165
        },
        {
          "output_type": "display_data",
          "data": {
            "text/plain": [
              "<Figure size 1152x360 with 3 Axes>"
            ],
            "image/png": "[encoded data removed]"
          },
          "metadata": {
            "needs_background": "light"
          }
        }
      ]
    },
    {
      "cell_type": "markdown",
      "source": [
        "It can be concluded that one having less Number of Loans will have more chances of having Good credit score."
      ],
      "metadata": {
        "id": "PFbxxu-FOk0z"
      }
    },
    {
      "cell_type": "markdown",
      "source": [
        "10. Type of Loan"
      ],
      "metadata": {
        "id": "qeYC7o-iO5wq"
      }
    },
    {
      "cell_type": "code",
      "source": [
        "dataset.Type_of_Loan.value_counts()"
      ],
      "metadata": {
        "colab": {
          "base_uri": "https://localhost:8080/"
        },
        "id": "RGvHa2RCO-bC",
        "outputId": "d9ffca9d-9e43-4801-fe68-485ccd491b1c"
      },
      "execution_count": 168,
      "outputs": [
        {
          "output_type": "execute_result",
          "data": {
            "text/plain": [
              "Not Specified                                                                                                                         1408\n",
              "Credit-Builder Loan                                                                                                                   1280\n",
              "Personal Loan                                                                                                                         1272\n",
              "Debt Consolidation Loan                                                                                                               1264\n",
              "Student Loan                                                                                                                          1240\n",
              "                                                                                                                                      ... \n",
              "Not Specified, Mortgage Loan, Auto Loan, and Payday Loan                                                                                 8\n",
              "Payday Loan, Mortgage Loan, Debt Consolidation Loan, and Student Loan                                                                    8\n",
              "Debt Consolidation Loan, Auto Loan, Personal Loan, Debt Consolidation Loan, Student Loan, and Credit-Builder Loan                        8\n",
              "Student Loan, Auto Loan, Student Loan, Credit-Builder Loan, Home Equity Loan, Debt Consolidation Loan, and Debt Consolidation Loan       8\n",
              "Personal Loan, Auto Loan, Mortgage Loan, Student Loan, and Student Loan                                                                  8\n",
              "Name: Type_of_Loan, Length: 6260, dtype: int64"
            ]
          },
          "metadata": {},
          "execution_count": 168
        }
      ]
    },
    {
      "cell_type": "markdown",
      "source": [
        "\n",
        "\n",
        "11. Delay from due date "
      ],
      "metadata": {
        "id": "SHBBogJVPgWb"
      }
    },
    {
      "cell_type": "code",
      "source": [
        "print('Good : ',good.Delay_from_due_date.median())\n",
        "print(\"*\"*10)\n",
        "print('Standard : ',std.Delay_from_due_date.median())\n",
        "print(\"*\"*10)\n",
        "print('Poor : ',poor.Delay_from_due_date.median())"
      ],
      "metadata": {
        "colab": {
          "base_uri": "https://localhost:8080/"
        },
        "id": "qLYyehp_P5o3",
        "outputId": "3b894636-35b6-43ff-92b5-0c95841519f3"
      },
      "execution_count": 170,
      "outputs": [
        {
          "output_type": "stream",
          "name": "stdout",
          "text": [
            "Good :  10.0\n",
            "**********\n",
            "Standard :  18.0\n",
            "**********\n",
            "Poor :  27.0\n"
          ]
        }
      ]
    },
    {
      "cell_type": "code",
      "source": [
        "print('Good : ',good.Delay_from_due_date.mean())\n",
        "print(\"*\"*10)\n",
        "print('Standard : ',std.Delay_from_due_date.mean())\n",
        "print(\"*\"*10)\n",
        "print('Poor : ',poor.Delay_from_due_date.mean())"
      ],
      "metadata": {
        "colab": {
          "base_uri": "https://localhost:8080/"
        },
        "id": "h0D2RxZHP4Pa",
        "outputId": "2bbba381-d8a2-4119-a4c9-d7c5b3a6d4c8"
      },
      "execution_count": 171,
      "outputs": [
        {
          "output_type": "stream",
          "name": "stdout",
          "text": [
            "Good :  10.892752972851694\n",
            "**********\n",
            "Standard :  19.749576860871855\n",
            "**********\n",
            "Poor :  29.744051313883716\n"
          ]
        }
      ]
    },
    {
      "cell_type": "code",
      "source": [
        "plt.figure(figsize=(16,5))\n",
        "plt.subplot(1,3,1)\n",
        "plt.title('Good Credit Score')\n",
        "plt.hist(good.Delay_from_due_date , bins = 8,edgecolor ='black') \n",
        "plt.subplot(1,3,2)\n",
        "plt.title('Standard Credit Score')\n",
        "plt.hist(std.Delay_from_due_date , bins = 8,edgecolor ='black')\n",
        "plt.subplot(1,3,3)\n",
        "plt.title('Poor Credit Score')\n",
        "plt.hist(poor.Delay_from_due_date, bins = 8,edgecolor ='black')"
      ],
      "metadata": {
        "colab": {
          "base_uri": "https://localhost:8080/",
          "height": 388
        },
        "id": "vvG6rviNPr0s",
        "outputId": "eef51776-5390-4366-e290-d24fcf161d6e"
      },
      "execution_count": 175,
      "outputs": [
        {
          "output_type": "execute_result",
          "data": {
            "text/plain": [
              "(array([ 489., 3776., 6325., 6684., 3209., 3324., 3297., 1894.]),\n",
              " array([-5.,  4., 13., 22., 31., 40., 49., 58., 67.]),\n",
              " <a list of 8 Patch objects>)"
            ]
          },
          "metadata": {},
          "execution_count": 175
        },
        {
          "output_type": "display_data",
          "data": {
            "text/plain": [
              "<Figure size 1152x360 with 3 Axes>"
            ],
            "image/png": "[encoded data removed]"
          },
          "metadata": {
            "needs_background": "light"
          }
        }
      ]
    },
    {
      "cell_type": "markdown",
      "source": [
        "It can be concluded that one having less Delay will have more chances of having Good credit score."
      ],
      "metadata": {
        "id": "Rct34LFzQaWq"
      }
    },
    {
      "cell_type": "markdown",
      "source": [
        "12. Number of Delayed Payment  "
      ],
      "metadata": {
        "id": "13TaHlofRJsI"
      }
    },
    {
      "cell_type": "code",
      "source": [
        "print('Good : ',good.Num_of_Delayed_Payment.median())\n",
        "print(\"*\"*10)\n",
        "print('Standard : ',std.Num_of_Delayed_Payment.median())\n",
        "print(\"*\"*10)\n",
        "print('Poor : ',poor.Num_of_Delayed_Payment.median())"
      ],
      "metadata": {
        "colab": {
          "base_uri": "https://localhost:8080/"
        },
        "id": "aNjBcTnVQZi8",
        "outputId": "c1ab1eb4-8f53-4094-8f2e-d9eea8e086a1"
      },
      "execution_count": 176,
      "outputs": [
        {
          "output_type": "stream",
          "name": "stdout",
          "text": [
            "Good :  8.0\n",
            "**********\n",
            "Standard :  14.0\n",
            "**********\n",
            "Poor :  17.0\n"
          ]
        }
      ]
    },
    {
      "cell_type": "code",
      "source": [
        "print('Good : ',good.Num_of_Delayed_Payment.mean())\n",
        "print(\"*\"*10)\n",
        "print('Standard : ',std.Num_of_Delayed_Payment.mean())\n",
        "print(\"*\"*10)\n",
        "print('Poor : ',poor.Num_of_Delayed_Payment.mean())"
      ],
      "metadata": {
        "colab": {
          "base_uri": "https://localhost:8080/"
        },
        "id": "2sNd8nCVRffT",
        "outputId": "06e72812-2c9a-4cca-aae3-c222fd8069ab"
      },
      "execution_count": 177,
      "outputs": [
        {
          "output_type": "stream",
          "name": "stdout",
          "text": [
            "Good :  25.971647463352838\n",
            "**********\n",
            "Standard :  31.917781059701795\n",
            "**********\n",
            "Poor :  32.14333876704209\n"
          ]
        }
      ]
    },
    {
      "cell_type": "code",
      "source": [
        "plt.figure(figsize=(16,5))\n",
        "plt.subplot(1,3,1)\n",
        "plt.title('Good Credit Score')\n",
        "plt.hist(good.Num_of_Delayed_Payment , bins = 8,edgecolor ='black') \n",
        "plt.subplot(1,3,2)\n",
        "plt.title('Standard Credit Score')\n",
        "plt.hist(std.Num_of_Delayed_Payment, bins = 8,edgecolor ='black')\n",
        "plt.subplot(1,3,3)\n",
        "plt.title('Poor Credit Score')\n",
        "plt.hist(poor.Num_of_Delayed_Payment, bins = 8,edgecolor ='black')"
      ],
      "metadata": {
        "colab": {
          "base_uri": "https://localhost:8080/",
          "height": 440
        },
        "id": "sBibZ9sZRoKf",
        "outputId": "bf8153de-9d01-4527-f549-675ad6d11d22"
      },
      "execution_count": 178,
      "outputs": [
        {
          "output_type": "execute_result",
          "data": {
            "text/plain": [
              "(array([2.6822e+04, 2.0000e+01, 2.2000e+01, 2.4000e+01, 2.7000e+01,\n",
              "        2.1000e+01, 2.3000e+01, 3.3000e+01]),\n",
              " array([-3.000000e+00,  5.398750e+02,  1.082750e+03,  1.625625e+03,\n",
              "         2.168500e+03,  2.711375e+03,  3.254250e+03,  3.797125e+03,\n",
              "         4.340000e+03]),\n",
              " <a list of 8 Patch objects>)"
            ]
          },
          "metadata": {},
          "execution_count": 178
        },
        {
          "output_type": "display_data",
          "data": {
            "text/plain": [
              "<Figure size 1152x360 with 3 Axes>"
            ],
            "image/png": "[encoded data removed]"
          },
          "metadata": {
            "needs_background": "light"
          }
        }
      ]
    },
    {
      "cell_type": "markdown",
      "source": [
        "It can be concluded that one having less Number of Delayed Payments will have Good credit score."
      ],
      "metadata": {
        "id": "rJyjdtWkR9TT"
      }
    },
    {
      "cell_type": "markdown",
      "source": [
        "13. Changed Credit Limit"
      ],
      "metadata": {
        "id": "piIT5z0uSQPR"
      }
    },
    {
      "cell_type": "code",
      "source": [
        "print('Good : ',good.Changed_Credit_Limit.median())\n",
        "print(\"*\"*10)\n",
        "print('Standard : ',std.Changed_Credit_Limit.median())\n",
        "print(\"*\"*10)\n",
        "print('Poor : ',poor.Changed_Credit_Limit.median())"
      ],
      "metadata": {
        "colab": {
          "base_uri": "https://localhost:8080/"
        },
        "id": "HmtO-7A4SV12",
        "outputId": "5559625a-77fc-49d8-8433-9e133f136ffa"
      },
      "execution_count": 182,
      "outputs": [
        {
          "output_type": "stream",
          "name": "stdout",
          "text": [
            "Good :  6.7\n",
            "**********\n",
            "Standard :  10.3\n",
            "**********\n",
            "Poor :  9.73\n"
          ]
        }
      ]
    },
    {
      "cell_type": "code",
      "source": [
        "print('Good : ',good.Changed_Credit_Limit.mean())\n",
        "print(\"*\"*10)\n",
        "print('Standard : ',std.Changed_Credit_Limit.mean())\n",
        "print(\"*\"*10)\n",
        "print('Poor : ',poor.Changed_Credit_Limit.mean())"
      ],
      "metadata": {
        "colab": {
          "base_uri": "https://localhost:8080/"
        },
        "id": "6fB0au5BSV99",
        "outputId": "2f53f023-0093-4f29-bb26-7f1659e99951"
      },
      "execution_count": 179,
      "outputs": [
        {
          "output_type": "stream",
          "name": "stdout",
          "text": [
            "Good :  7.105812768393931\n",
            "**********\n",
            "Standard :  11.130055296353898\n",
            "**********\n",
            "Poor :  11.050011283100032\n"
          ]
        }
      ]
    },
    {
      "cell_type": "code",
      "source": [
        "plt.figure(figsize=(16,5))\n",
        "plt.subplot(1,3,1)\n",
        "plt.title('Good Credit Score')\n",
        "plt.hist(good.Changed_Credit_Limit , bins = 8,edgecolor ='black') \n",
        "plt.subplot(1,3,2)\n",
        "plt.title('Standard Credit Score')\n",
        "plt.hist(std.Changed_Credit_Limit, bins = 8,edgecolor ='black')\n",
        "plt.subplot(1,3,3)\n",
        "plt.title('Poor Credit Score')\n",
        "plt.hist(poor.Changed_Credit_Limit, bins = 8,edgecolor ='black')"
      ],
      "metadata": {
        "colab": {
          "base_uri": "https://localhost:8080/",
          "height": 405
        },
        "id": "t69Hv0qtSWK5",
        "outputId": "b53a262e-9a86-49fb-9b0f-f8622fe0bc8f"
      },
      "execution_count": 181,
      "outputs": [
        {
          "output_type": "execute_result",
          "data": {
            "text/plain": [
              "(array([ 308., 4726., 8507., 6269., 5439., 1809., 1225.,   78.]),\n",
              " array([-6.45   , -1.16625,  4.1175 ,  9.40125, 14.685  , 19.96875,\n",
              "        25.2525 , 30.53625, 35.82   ]),\n",
              " <a list of 8 Patch objects>)"
            ]
          },
          "metadata": {},
          "execution_count": 181
        },
        {
          "output_type": "display_data",
          "data": {
            "text/plain": [
              "<Figure size 1152x360 with 3 Axes>"
            ],
            "image/png": "[encoded data removed]"
          },
          "metadata": {
            "needs_background": "light"
          }
        }
      ]
    },
    {
      "cell_type": "markdown",
      "source": [
        "14. Number of Credit Inquiries "
      ],
      "metadata": {
        "id": "I8nVtKOPVxLn"
      }
    },
    {
      "cell_type": "code",
      "source": [
        "print('Good : ',good.Num_Credit_Inquiries.median())\n",
        "print(\"*\"*10)\n",
        "print('Standard : ',std.Num_Credit_Inquiries.median())\n",
        "print(\"*\"*10)\n",
        "print('Poor : ',poor.Num_Credit_Inquiries.median())"
      ],
      "metadata": {
        "colab": {
          "base_uri": "https://localhost:8080/"
        },
        "id": "kAVc_GjeVcV_",
        "outputId": "51a87cdd-44d8-4dbc-b32a-988079f8ee63"
      },
      "execution_count": 187,
      "outputs": [
        {
          "output_type": "stream",
          "name": "stdout",
          "text": [
            "Good :  3.0\n",
            "**********\n",
            "Standard :  5.0\n",
            "**********\n",
            "Poor :  9.0\n"
          ]
        }
      ]
    },
    {
      "cell_type": "code",
      "source": [
        "print('Good : ',good.Num_Credit_Inquiries.mean())\n",
        "print(\"*\"*10)\n",
        "print('Standard : ',std.Num_Credit_Inquiries.mean())\n",
        "print(\"*\"*10)\n",
        "print('Poor : ',poor.Num_Credit_Inquiries.mean())"
      ],
      "metadata": {
        "colab": {
          "base_uri": "https://localhost:8080/"
        },
        "id": "3cpBuRSwVgpc",
        "outputId": "a7e2054b-97a0-44df-ef72-a912ab2eb74d"
      },
      "execution_count": 186,
      "outputs": [
        {
          "output_type": "stream",
          "name": "stdout",
          "text": [
            "Good :  24.483044547378054\n",
            "**********\n",
            "Standard :  27.192684845809907\n",
            "**********\n",
            "Poor :  30.7949150754299\n"
          ]
        }
      ]
    },
    {
      "cell_type": "code",
      "source": [
        "plt.figure(figsize=(16,5))\n",
        "plt.subplot(1,3,1)\n",
        "plt.title('Good Credit Score')\n",
        "plt.hist(good.Num_Credit_Inquiries  , bins = 6,edgecolor ='black') \n",
        "plt.subplot(1,3,2)\n",
        "plt.title('Standard Credit Score')\n",
        "plt.hist(std.Num_Credit_Inquiries , bins = 6,edgecolor ='black')\n",
        "plt.subplot(1,3,3)\n",
        "plt.title('Poor Credit Score')\n",
        "plt.hist(poor.Num_Credit_Inquiries , bins = 6,edgecolor ='black')"
      ],
      "metadata": {
        "colab": {
          "base_uri": "https://localhost:8080/",
          "height": 405
        },
        "id": "L1gp_2dHVpR0",
        "outputId": "d7b6d05a-98ac-4198-90d1-bf3c01c45f18"
      },
      "execution_count": 189,
      "outputs": [
        {
          "output_type": "execute_result",
          "data": {
            "text/plain": [
              "(array([28019.,    72.,    93.,    78.,    86.,    89.]),\n",
              " array([   0.        ,  428.66666667,  857.33333333, 1286.        ,\n",
              "        1714.66666667, 2143.33333333, 2572.        ]),\n",
              " <a list of 6 Patch objects>)"
            ]
          },
          "metadata": {},
          "execution_count": 189
        },
        {
          "output_type": "display_data",
          "data": {
            "text/plain": [
              "<Figure size 1152x360 with 3 Axes>"
            ],
            "image/png": "[encoded data removed]"
          },
          "metadata": {
            "needs_background": "light"
          }
        }
      ]
    },
    {
      "cell_type": "markdown",
      "source": [
        "It can be concluded that one having less inquiries will have Good credit score."
      ],
      "metadata": {
        "id": "DbYl54htW5mP"
      }
    },
    {
      "cell_type": "markdown",
      "source": [
        "15. Credit Mix"
      ],
      "metadata": {
        "id": "z-qCzRMHXIgs"
      }
    },
    {
      "cell_type": "code",
      "source": [
        "dataset.Credit_Mix.unique()"
      ],
      "metadata": {
        "colab": {
          "base_uri": "https://localhost:8080/"
        },
        "id": "Xz80z8nVXm6O",
        "outputId": "c4781a43-f909-4e9a-ce08-3df8f4f48526"
      },
      "execution_count": 324,
      "outputs": [
        {
          "output_type": "execute_result",
          "data": {
            "text/plain": [
              "array([nan, 'Good', 'Standard', 'Bad'], dtype=object)"
            ]
          },
          "metadata": {},
          "execution_count": 324
        }
      ]
    },
    {
      "cell_type": "code",
      "source": [
        "print(good.Credit_Mix.value_counts())\n",
        "print('*'*40)\n",
        "print(poor.Credit_Mix.value_counts())\n",
        "print('*'*40)\n",
        "print(std.Credit_Mix.value_counts())"
      ],
      "metadata": {
        "colab": {
          "base_uri": "https://localhost:8080/"
        },
        "id": "C2_Zh6NKYCaj",
        "outputId": "030ce3e1-87f8-433e-bc56-8b8be7e84e89"
      },
      "execution_count": 191,
      "outputs": [
        {
          "output_type": "stream",
          "name": "stdout",
          "text": [
            "Good        11875\n",
            "Standard     2043\n",
            "Bad           288\n",
            "Name: Credit_Mix, dtype: int64\n",
            "****************************************\n",
            "Bad         11409\n",
            "Standard     7859\n",
            "Good         3861\n",
            "Name: Credit_Mix, dtype: int64\n",
            "****************************************\n",
            "Standard    26577\n",
            "Good         8601\n",
            "Bad          7292\n",
            "Name: Credit_Mix, dtype: int64\n"
          ]
        }
      ]
    },
    {
      "cell_type": "code",
      "source": [
        "#count plot of Credit_Mix having good credit score\n",
        "plt.figure(figsize=(10,4))\n",
        "plt.subplot(1,3,1)\n",
        "sns.countplot(x='Credit_Mix', data=good)\n",
        "plt.title('Credit_Mix Having Good Credit Score')\n",
        "\n",
        "#count plot of Credit_Mix having Standard credit score\n",
        "plt.figure(figsize=(10,4))\n",
        "plt.subplot(1,3,2)\n",
        "sns.countplot(x='Credit_Mix', data=std)\n",
        "plt.title('Credit_Mix Having Standard Credit Score')\n",
        "\n",
        "#count plot of Credit_Mix having Poor credit score\n",
        "plt.figure(figsize=(10,4))\n",
        "plt.subplot(1,3,3)\n",
        "sns.countplot(x='Credit_Mix', data=poor)\n",
        "plt.title('Credit_Mix Having Poor Credit Score')"
      ],
      "metadata": {
        "colab": {
          "base_uri": "https://localhost:8080/",
          "height": 823
        },
        "id": "r99nLF-GXnFJ",
        "outputId": "73773b0e-5f50-4758-c58e-89704e0fa42d"
      },
      "execution_count": 204,
      "outputs": [
        {
          "output_type": "execute_result",
          "data": {
            "text/plain": [
              "<matplotlib.axes._subplots.AxesSubplot at 0x7f2df45f6550>"
            ]
          },
          "metadata": {},
          "execution_count": 204
        },
        {
          "output_type": "display_data",
          "data": {
            "text/plain": [
              "<Figure size 720x288 with 1 Axes>"
            ],
            "image/png": "[encoded data removed]"
          },
          "metadata": {
            "needs_background": "light"
          }
        },
        {
          "output_type": "display_data",
          "data": {
            "text/plain": [
              "<Figure size 720x288 with 1 Axes>"
            ],
            "image/png": "[encoded data removed]"
          },
          "metadata": {
            "needs_background": "light"
          }
        },
        {
          "output_type": "display_data",
          "data": {
            "text/plain": [
              "<Figure size 720x288 with 1 Axes>"
            ],
            "image/png": "[encoded data removed]"
          },
          "metadata": {
            "needs_background": "light"
          }
        }
      ]
    },
    {
      "cell_type": "markdown",
      "source": [
        "16. Outstanding Debt or Remaining Debt"
      ],
      "metadata": {
        "id": "fIJXYIlbbb1x"
      }
    },
    {
      "cell_type": "code",
      "source": [
        "print('Good : ',good.Outstanding_Debt.median())\n",
        "print(\"*\"*10)\n",
        "print('Standard : ',std.Outstanding_Debt.median())\n",
        "print(\"*\"*10)\n",
        "print('Poor : ',poor.Outstanding_Debt.median())"
      ],
      "metadata": {
        "colab": {
          "base_uri": "https://localhost:8080/"
        },
        "id": "SwKLmZlpXnPp",
        "outputId": "9556b375-28a0-4625-c066-896cecdfc056"
      },
      "execution_count": 205,
      "outputs": [
        {
          "output_type": "stream",
          "name": "stdout",
          "text": [
            "Good :  736.47\n",
            "**********\n",
            "Standard :  1001.61\n",
            "**********\n",
            "Poor :  1945.35\n"
          ]
        }
      ]
    },
    {
      "cell_type": "code",
      "source": [
        "print('Good : ',good.Outstanding_Debt.mean())\n",
        "print(\"*\"*10)\n",
        "print('Standard : ',std.Outstanding_Debt.mean())\n",
        "print(\"*\"*10)\n",
        "print('Poor : ',poor.Outstanding_Debt.mean())"
      ],
      "metadata": {
        "colab": {
          "base_uri": "https://localhost:8080/"
        },
        "id": "SXe9NcuvbyrF",
        "outputId": "62c70a62-403e-410f-98b4-a3e61e0cd985"
      },
      "execution_count": 206,
      "outputs": [
        {
          "output_type": "stream",
          "name": "stdout",
          "text": [
            "Good :  801.2563237603771\n",
            "**********\n",
            "Standard :  1278.4195518486479\n",
            "**********\n",
            "Poor :  2081.473157114284\n"
          ]
        }
      ]
    },
    {
      "cell_type": "code",
      "source": [
        "plt.figure(figsize=(16,5))\n",
        "plt.subplot(1,3,1)\n",
        "plt.title('Good Credit Score')\n",
        "plt.hist(good.Outstanding_Debt  , bins = 6,edgecolor ='black') \n",
        "plt.subplot(1,3,2)\n",
        "plt.title('Standard Credit Score')\n",
        "plt.hist(std.Outstanding_Debt , bins = 6,edgecolor ='black')\n",
        "plt.subplot(1,3,3)\n",
        "plt.title('Poor Credit Score')\n",
        "plt.hist(poor.Outstanding_Debt , bins = 6,edgecolor ='black')"
      ],
      "metadata": {
        "colab": {
          "base_uri": "https://localhost:8080/",
          "height": 405
        },
        "id": "mhmnlHjVb3b4",
        "outputId": "bb16b8c8-e252-4865-c4eb-330856d4ecf0"
      },
      "execution_count": 207,
      "outputs": [
        {
          "output_type": "execute_result",
          "data": {
            "text/plain": [
              "(array([3815., 7585., 8876., 4280., 2313., 2129.]),\n",
              " array([5.40000e-01, 8.33300e+02, 1.66606e+03, 2.49882e+03, 3.33158e+03,\n",
              "        4.16434e+03, 4.99710e+03]),\n",
              " <a list of 6 Patch objects>)"
            ]
          },
          "metadata": {},
          "execution_count": 207
        },
        {
          "output_type": "display_data",
          "data": {
            "text/plain": [
              "<Figure size 1152x360 with 3 Axes>"
            ],
            "image/png": "[encoded data removed]"
          },
          "metadata": {
            "needs_background": "light"
          }
        }
      ]
    },
    {
      "cell_type": "markdown",
      "source": [
        "17. Credit Utilization Ratio"
      ],
      "metadata": {
        "id": "8RsPWg8VcoK9"
      }
    },
    {
      "cell_type": "code",
      "source": [
        "print('Good : ',good.Credit_Utilization_Ratio.median())\n",
        "print(\"*\"*10)\n",
        "print('Standard : ',std.Credit_Utilization_Ratio.median())\n",
        "print(\"*\"*10)\n",
        "print('Poor : ',poor.Credit_Utilization_Ratio.median())"
      ],
      "metadata": {
        "colab": {
          "base_uri": "https://localhost:8080/"
        },
        "id": "V-nFjJBpcxpJ",
        "outputId": "a943ca3e-a471-4e9b-8136-d0bc040f88c9"
      },
      "execution_count": 209,
      "outputs": [
        {
          "output_type": "stream",
          "name": "stdout",
          "text": [
            "Good :  32.74082560091017\n",
            "**********\n",
            "Standard :  32.32676491558878\n",
            "**********\n",
            "Poor :  32.006944801473466\n"
          ]
        }
      ]
    },
    {
      "cell_type": "code",
      "source": [
        "print('Good : ',good.Credit_Utilization_Ratio.mean())\n",
        "print(\"*\"*10)\n",
        "print('Standard : ',std.Credit_Utilization_Ratio.mean())\n",
        "print(\"*\"*10)\n",
        "print('Poor : ',poor.Credit_Utilization_Ratio.mean())"
      ],
      "metadata": {
        "colab": {
          "base_uri": "https://localhost:8080/"
        },
        "id": "eEo1kFhxcxst",
        "outputId": "6b48451f-a797-4a4c-907c-19642e77c209"
      },
      "execution_count": 211,
      "outputs": [
        {
          "output_type": "stream",
          "name": "stdout",
          "text": [
            "Good :  32.686107068560574\n",
            "**********\n",
            "Standard :  32.31381994763405\n",
            "**********\n",
            "Poor :  31.98614639563311\n"
          ]
        }
      ]
    },
    {
      "cell_type": "code",
      "source": [
        "plt.figure(figsize=(16,5))\n",
        "plt.subplot(1,3,1)\n",
        "plt.title('Good Credit Score')\n",
        "plt.hist(good.Credit_Utilization_Ratio , bins = 6,edgecolor ='black') \n",
        "plt.subplot(1,3,2)\n",
        "plt.title('Standard Credit Score')\n",
        "plt.hist(std.Credit_Utilization_Ratio , bins = 6,edgecolor ='black')\n",
        "plt.subplot(1,3,3)\n",
        "plt.title('Poor Credit Score')\n",
        "plt.hist(poor.Credit_Utilization_Ratio , bins = 6,edgecolor ='black')"
      ],
      "metadata": {
        "colab": {
          "base_uri": "https://localhost:8080/",
          "height": 405
        },
        "id": "ZnxjULKpcxyf",
        "outputId": "72074c4d-7e28-4d73-ae06-9d5334151f91"
      },
      "execution_count": 212,
      "outputs": [
        {
          "output_type": "execute_result",
          "data": {
            "text/plain": [
              "(array([2572., 7804., 8110., 8113., 2345.,   54.]),\n",
              " array([20.1729419 , 24.89242687, 29.61191184, 34.33139681, 39.05088178,\n",
              "        43.77036676, 48.48985173]),\n",
              " <a list of 6 Patch objects>)"
            ]
          },
          "metadata": {},
          "execution_count": 212
        },
        {
          "output_type": "display_data",
          "data": {
            "text/plain": [
              "<Figure size 1152x360 with 3 Axes>"
            ],
            "image/png": "[encoded data removed]"
          },
          "metadata": {
            "needs_background": "light"
          }
        }
      ]
    },
    {
      "cell_type": "markdown",
      "source": [
        "From the above figure it can be concluded that Credit Utilization Ratio doen't affect credit score."
      ],
      "metadata": {
        "id": "ceg24OEGdrrf"
      }
    },
    {
      "cell_type": "markdown",
      "source": [
        "18. Payment of Minimum Amount"
      ],
      "metadata": {
        "id": "JgUYAyDueGje"
      }
    },
    {
      "cell_type": "code",
      "source": [
        "dataset.Payment_of_Min_Amount.unique()"
      ],
      "metadata": {
        "colab": {
          "base_uri": "https://localhost:8080/"
        },
        "id": "xLkU9MyTdYDz",
        "outputId": "41e748be-5591-44d9-eb99-101d8089d1f7"
      },
      "execution_count": 219,
      "outputs": [
        {
          "output_type": "execute_result",
          "data": {
            "text/plain": [
              "array(['No', 'NM', 'Yes'], dtype=object)"
            ]
          },
          "metadata": {},
          "execution_count": 219
        }
      ]
    },
    {
      "cell_type": "code",
      "source": [
        "dataset.Payment_of_Min_Amount.value_counts()"
      ],
      "metadata": {
        "colab": {
          "base_uri": "https://localhost:8080/"
        },
        "id": "VWhkK052cdkg",
        "outputId": "364e8ee1-117d-4df3-e18c-f0aac41f7a49"
      },
      "execution_count": 218,
      "outputs": [
        {
          "output_type": "execute_result",
          "data": {
            "text/plain": [
              "Yes    52326\n",
              "No     35667\n",
              "NM     12007\n",
              "Name: Payment_of_Min_Amount, dtype: int64"
            ]
          },
          "metadata": {},
          "execution_count": 218
        }
      ]
    },
    {
      "cell_type": "code",
      "source": [
        "plt.figure(figsize=(10,5))\n",
        "\n",
        "#pie chart for Good credit score\n",
        "plt.subplot(1,2,1)\n",
        "label = good.Payment_of_Min_Amount.value_counts().index\n",
        "label_count = good.Payment_of_Min_Amount.value_counts().values\n",
        "plt.pie(data=good, x=label_count, labels=label, autopct='%1.1f%%', radius=1)\n",
        "\n",
        "#count plot\n",
        "plt.subplot(1,2,2)\n",
        "sns.countplot(x='Payment_of_Min_Amount', data=good)\n",
        "plt.title('Target feature distribution of data')\n"
      ],
      "metadata": {
        "colab": {
          "base_uri": "https://localhost:8080/",
          "height": 368
        },
        "id": "H-eA7NTSfsT8",
        "outputId": "424d6492-2809-4404-ce6a-e536c9944879"
      },
      "execution_count": 236,
      "outputs": [
        {
          "output_type": "execute_result",
          "data": {
            "text/plain": [
              "Text(0.5, 1.0, 'Target feature distribution of data')"
            ]
          },
          "metadata": {},
          "execution_count": 236
        },
        {
          "output_type": "display_data",
          "data": {
            "text/plain": [
              "<Figure size 720x360 with 2 Axes>"
            ],
            "image/png": "[encoded data removed]"
          },
          "metadata": {
            "needs_background": "light"
          }
        }
      ]
    },
    {
      "cell_type": "code",
      "source": [
        "plt.figure(figsize=(10,5))\n",
        "\n",
        "#pie chart for standard credit score\n",
        "plt.subplot(1,2,1)\n",
        "label = std.Payment_of_Min_Amount.value_counts().index\n",
        "label_count = std.Payment_of_Min_Amount.value_counts().values\n",
        "plt.pie(data=std, x=label_count, labels=label, autopct='%1.1f%%', radius=1)\n",
        "\n",
        "#count plot\n",
        "plt.subplot(1,2,2)\n",
        "sns.countplot(x='Payment_of_Min_Amount', data=std)\n",
        "plt.title('Target feature distribution of data')\n"
      ],
      "metadata": {
        "colab": {
          "base_uri": "https://localhost:8080/",
          "height": 368
        },
        "id": "g9_pCASAhZ0Y",
        "outputId": "a0ceedcc-a698-499b-a406-ae4aa412ca19"
      },
      "execution_count": 238,
      "outputs": [
        {
          "output_type": "execute_result",
          "data": {
            "text/plain": [
              "Text(0.5, 1.0, 'Target feature distribution of data')"
            ]
          },
          "metadata": {},
          "execution_count": 238
        },
        {
          "output_type": "display_data",
          "data": {
            "text/plain": [
              "<Figure size 720x360 with 2 Axes>"
            ],
            "image/png": "[encoded data removed]"
          },
          "metadata": {
            "needs_background": "light"
          }
        }
      ]
    },
    {
      "cell_type": "code",
      "source": [
        "plt.figure(figsize=(10,5))\n",
        "\n",
        "#pie chart for poor credit score\n",
        "plt.subplot(1,2,1)\n",
        "label = poor.Payment_of_Min_Amount.value_counts().index\n",
        "label_count = poor.Payment_of_Min_Amount.value_counts().values\n",
        "plt.pie(data=poor, x=label_count, labels=label, autopct='%1.1f%%', radius=1)\n",
        "\n",
        "#count plot\n",
        "plt.subplot(1,2,2)\n",
        "sns.countplot(x='Payment_of_Min_Amount', data=poor)\n",
        "plt.title('Target feature distribution of data')"
      ],
      "metadata": {
        "colab": {
          "base_uri": "https://localhost:8080/",
          "height": 368
        },
        "id": "ryJT40qThhs5",
        "outputId": "1a186008-c6e4-4a23-b93f-72b5e4475396"
      },
      "execution_count": 239,
      "outputs": [
        {
          "output_type": "execute_result",
          "data": {
            "text/plain": [
              "Text(0.5, 1.0, 'Target feature distribution of data')"
            ]
          },
          "metadata": {},
          "execution_count": 239
        },
        {
          "output_type": "display_data",
          "data": {
            "text/plain": [
              "<Figure size 720x360 with 2 Axes>"
            ],
            "image/png": "[encoded data removed]"
          },
          "metadata": {
            "needs_background": "light"
          }
        }
      ]
    },
    {
      "cell_type": "markdown",
      "source": [
        "From the above figures it can be concluded that Payment of minimum amount doen't affect credit score."
      ],
      "metadata": {
        "id": "9ZQFe7TDixt6"
      }
    },
    {
      "cell_type": "markdown",
      "source": [
        "19. Total EMI per month"
      ],
      "metadata": {
        "id": "7xNDby1qjNzy"
      }
    },
    {
      "cell_type": "code",
      "source": [
        "print('Good : ',good.Total_EMI_per_month.median())\n",
        "print(\"*\"*10)\n",
        "print('Standard : ',std.Total_EMI_per_month.median())\n",
        "print(\"*\"*10)\n",
        "print('Poor : ',poor.Total_EMI_per_month.median())"
      ],
      "metadata": {
        "colab": {
          "base_uri": "https://localhost:8080/"
        },
        "id": "WbTLk9PkkbTk",
        "outputId": "157861af-e5ee-4266-933b-ab1e8fcc0dc8"
      },
      "execution_count": 241,
      "outputs": [
        {
          "output_type": "stream",
          "name": "stdout",
          "text": [
            "Good :  64.8112819096051\n",
            "**********\n",
            "Standard :  65.87314109365732\n",
            "**********\n",
            "Poor :  77.71339407246742\n"
          ]
        }
      ]
    },
    {
      "cell_type": "code",
      "source": [
        "print('Good : ',good.Total_EMI_per_month.mean())\n",
        "print(\"*\"*10)\n",
        "print('Standard : ',std.Total_EMI_per_month.mean())\n",
        "print(\"*\"*10)\n",
        "print('Poor : ',poor.Total_EMI_per_month.mean())"
      ],
      "metadata": {
        "colab": {
          "base_uri": "https://localhost:8080/"
        },
        "id": "urkLLYlwkrKn",
        "outputId": "a35e4e70-52b1-4fa5-8f10-08e41aa27243"
      },
      "execution_count": 243,
      "outputs": [
        {
          "output_type": "stream",
          "name": "stdout",
          "text": [
            "Good :  1477.1994938087737\n",
            "**********\n",
            "Standard :  1399.6506879404262\n",
            "**********\n",
            "Poor :  1363.9314230440807\n"
          ]
        }
      ]
    },
    {
      "cell_type": "code",
      "source": [
        "plt.figure(figsize=(16,5))\n",
        "plt.subplot(1,3,1)\n",
        "plt.title('Good Credit Score')\n",
        "plt.hist(good.Total_EMI_per_month , bins = 6,edgecolor ='black') \n",
        "plt.subplot(1,3,2)\n",
        "plt.title('Standard Credit Score')\n",
        "plt.hist(std.Total_EMI_per_month , bins = 6,edgecolor ='black')\n",
        "plt.subplot(1,3,3)\n",
        "plt.title('Poor Credit Score')\n",
        "plt.hist(poor.Total_EMI_per_month , bins = 6,edgecolor ='black')"
      ],
      "metadata": {
        "colab": {
          "base_uri": "https://localhost:8080/",
          "height": 405
        },
        "id": "9UwYiJ0vlTwV",
        "outputId": "074cd685-0726-4a38-d213-33b834a92f32"
      },
      "execution_count": 244,
      "outputs": [
        {
          "output_type": "execute_result",
          "data": {
            "text/plain": [
              "(array([28268.,   142.,   142.,   155.,   136.,   155.]),\n",
              " array([    0.        , 13721.83333333, 27443.66666667, 41165.5       ,\n",
              "        54887.33333333, 68609.16666667, 82331.        ]),\n",
              " <a list of 6 Patch objects>)"
            ]
          },
          "metadata": {},
          "execution_count": 244
        },
        {
          "output_type": "display_data",
          "data": {
            "text/plain": [
              "<Figure size 1152x360 with 3 Axes>"
            ],
            "image/png": "[encoded data removed]"
          },
          "metadata": {
            "needs_background": "light"
          }
        }
      ]
    },
    {
      "cell_type": "markdown",
      "source": [
        "From the above figures it can be interpreted that Monthly EMI does not affect credit score."
      ],
      "metadata": {
        "id": "fx-ylsl1losO"
      }
    },
    {
      "cell_type": "markdown",
      "source": [
        "20. Amount invested monthly"
      ],
      "metadata": {
        "id": "bsyRxzG8mGE-"
      }
    },
    {
      "cell_type": "code",
      "source": [
        "print('Good : ',good.Amount_invested_monthly.median())\n",
        "print(\"*\"*10)\n",
        "print('Standard : ',std.Amount_invested_monthly.median())\n",
        "print(\"*\"*10)\n",
        "print('Poor : ',poor.Amount_invested_monthly.median())"
      ],
      "metadata": {
        "colab": {
          "base_uri": "https://localhost:8080/"
        },
        "id": "3yQzejGBmJxM",
        "outputId": "e7ed105c-901a-4947-c1a6-cfa1e1265ef7"
      },
      "execution_count": 246,
      "outputs": [
        {
          "output_type": "stream",
          "name": "stdout",
          "text": [
            "Good :  167.12859911575654\n",
            "**********\n",
            "Standard :  137.2902285020222\n",
            "**********\n",
            "Poor :  119.36201781881933\n"
          ]
        }
      ]
    },
    {
      "cell_type": "code",
      "source": [
        "print('Good : ',good.Amount_invested_monthly.mean())\n",
        "print(\"*\"*10)\n",
        "print('Standard : ',std.Amount_invested_monthly.mean())\n",
        "print(\"*\"*10)\n",
        "print('Poor : ',poor.Amount_invested_monthly.mean())"
      ],
      "metadata": {
        "colab": {
          "base_uri": "https://localhost:8080/"
        },
        "id": "_Gpydcx9mTf4",
        "outputId": "b38128db-f690-48e6-d3b2-5783794851c0"
      },
      "execution_count": 247,
      "outputs": [
        {
          "output_type": "stream",
          "name": "stdout",
          "text": [
            "Good :  691.4372429124851\n",
            "**********\n",
            "Standard :  631.400247505731\n",
            "**********\n",
            "Poor :  615.2582274099905\n"
          ]
        }
      ]
    },
    {
      "cell_type": "code",
      "source": [
        "plt.figure(figsize=(16,5))\n",
        "plt.subplot(1,3,1)\n",
        "plt.title('Good Credit Score')\n",
        "plt.hist(good.Amount_invested_monthly , bins = 6,edgecolor ='black') \n",
        "plt.subplot(1,3,2)\n",
        "plt.title('Standard Credit Score')\n",
        "plt.hist(std.Amount_invested_monthly , bins = 6,edgecolor ='black')\n",
        "plt.subplot(1,3,3)\n",
        "plt.title('Poor Credit Score')\n",
        "plt.hist(poor.Amount_invested_monthly , bins = 6,edgecolor ='black')"
      ],
      "metadata": {
        "colab": {
          "base_uri": "https://localhost:8080/",
          "height": 423
        },
        "id": "3_NLXGm4mOYy",
        "outputId": "1fdf28d3-987b-441e-c144-ad4e50b11318"
      },
      "execution_count": 249,
      "outputs": [
        {
          "output_type": "execute_result",
          "data": {
            "text/plain": [
              "(array([2.6381e+04, 5.0000e+00, 0.0000e+00, 0.0000e+00, 0.0000e+00,\n",
              "        1.2800e+03]),\n",
              " array([    0.        ,  1666.66666667,  3333.33333333,  5000.        ,\n",
              "         6666.66666667,  8333.33333333, 10000.        ]),\n",
              " <a list of 6 Patch objects>)"
            ]
          },
          "metadata": {},
          "execution_count": 249
        },
        {
          "output_type": "display_data",
          "data": {
            "text/plain": [
              "<Figure size 1152x360 with 3 Axes>"
            ],
            "image/png": "[encoded data removed]"
          },
          "metadata": {
            "needs_background": "light"
          }
        }
      ]
    },
    {
      "cell_type": "markdown",
      "source": [
        "From the above figures it can be interpreted that Monthly Amount invested does not affect credit score."
      ],
      "metadata": {
        "id": "JaGYh86ZnGS1"
      }
    },
    {
      "cell_type": "markdown",
      "source": [
        "21. Payment Behaviour "
      ],
      "metadata": {
        "id": "3gXZv2o7nR-5"
      }
    },
    {
      "cell_type": "code",
      "source": [
        "dataset.Payment_Behaviour.unique()"
      ],
      "metadata": {
        "colab": {
          "base_uri": "https://localhost:8080/"
        },
        "id": "d3MTN7iCncsN",
        "outputId": "ba694fbc-b8b8-43bb-c4ca-16171e136d63"
      },
      "execution_count": 251,
      "outputs": [
        {
          "output_type": "execute_result",
          "data": {
            "text/plain": [
              "array(['High_spent_Small_value_payments',\n",
              "       'Low_spent_Large_value_payments',\n",
              "       'Low_spent_Medium_value_payments',\n",
              "       'Low_spent_Small_value_payments',\n",
              "       'High_spent_Medium_value_payments', nan,\n",
              "       'High_spent_Large_value_payments'], dtype=object)"
            ]
          },
          "metadata": {},
          "execution_count": 251
        }
      ]
    },
    {
      "cell_type": "code",
      "source": [
        "print(good.Payment_Behaviour.value_counts())\n",
        "print('*'*40)\n",
        "print(poor.Payment_Behaviour.value_counts())\n",
        "print('*'*40)\n",
        "print(std.Payment_Behaviour.value_counts())"
      ],
      "metadata": {
        "colab": {
          "base_uri": "https://localhost:8080/"
        },
        "id": "jtIuoAEEkI0H",
        "outputId": "a3877532-64dd-482e-b75a-72dda5e387c7"
      },
      "execution_count": 253,
      "outputs": [
        {
          "output_type": "stream",
          "name": "stdout",
          "text": [
            "High_spent_Medium_value_payments    3524\n",
            "Low_spent_Small_value_payments      3273\n",
            "High_spent_Large_value_payments     3172\n",
            "Low_spent_Medium_value_payments     2482\n",
            "High_spent_Small_value_payments     2114\n",
            "Low_spent_Large_value_payments      1880\n",
            "Name: Payment_Behaviour, dtype: int64\n",
            "****************************************\n",
            "Low_spent_Small_value_payments      9125\n",
            "High_spent_Medium_value_payments    4439\n",
            "Low_spent_Medium_value_payments     4211\n",
            "High_spent_Small_value_payments     3088\n",
            "High_spent_Large_value_payments     2979\n",
            "Low_spent_Large_value_payments      2931\n",
            "Name: Payment_Behaviour, dtype: int64\n",
            "****************************************\n",
            "Low_spent_Small_value_payments      13115\n",
            "High_spent_Medium_value_payments     9577\n",
            "High_spent_Large_value_payments      7570\n",
            "Low_spent_Medium_value_payments      7168\n",
            "High_spent_Small_value_payments      6138\n",
            "Low_spent_Large_value_payments       5614\n",
            "Name: Payment_Behaviour, dtype: int64\n"
          ]
        }
      ]
    },
    {
      "cell_type": "code",
      "source": [
        "plt.figure(figsize=(16,5))\n",
        "#pie chart for good credit score\n",
        "plt.subplot(1,2,1)\n",
        "label = good.Payment_Behaviour.value_counts().index\n",
        "label_count = good.Payment_Behaviour.value_counts().values\n",
        "plt.pie(data=good, x=label_count, labels=label, autopct='%1.1f%%', radius=1)"
      ],
      "metadata": {
        "colab": {
          "base_uri": "https://localhost:8080/",
          "height": 615
        },
        "id": "Pe79ynb-swpp",
        "outputId": "498fd9e5-6ab9-4df6-b4b8-251a39a1c062"
      },
      "execution_count": 266,
      "outputs": [
        {
          "output_type": "execute_result",
          "data": {
            "text/plain": [
              "([<matplotlib.patches.Wedge at 0x7f2df23004d0>,\n",
              "  <matplotlib.patches.Wedge at 0x7f2df2300dd0>,\n",
              "  <matplotlib.patches.Wedge at 0x7f2df230a6d0>,\n",
              "  <matplotlib.patches.Wedge at 0x7f2df230ae50>,\n",
              "  <matplotlib.patches.Wedge at 0x7f2df23168d0>,\n",
              "  <matplotlib.patches.Wedge at 0x7f2df2322190>],\n",
              " [Text(0.860005283077041, 0.685850503447784, 'High_spent_Medium_value_payments'),\n",
              "  Text(-0.4292614597884213, 1.0127855642436427, 'Low_spent_Small_value_payments'),\n",
              "  Text(-1.0979323927711173, -0.06741261680048612, 'High_spent_Large_value_payments'),\n",
              "  Text(-0.45791211398435255, -1.0001582354139675, 'Low_spent_Medium_value_payments'),\n",
              "  Text(0.4771232919355841, -0.9911374093901165, 'High_spent_Small_value_payments'),\n",
              "  Text(1.029816137607866, -0.3866247828611312, 'Low_spent_Large_value_payments')],\n",
              " [Text(0.4690937907692951, 0.37410027460788214, '21.4%'),\n",
              "  Text(-0.23414261443004794, 0.5524284895874414, '19.9%'),\n",
              "  Text(-0.5988722142387912, -0.036770518254810605, '19.3%'),\n",
              "  Text(-0.249770243991465, -0.5455408556803459, '15.1%'),\n",
              "  Text(0.26024906832850037, -0.5406204051218817, '12.9%'),\n",
              "  Text(0.5617178932406541, -0.21088624519698065, '11.4%')])"
            ]
          },
          "metadata": {},
          "execution_count": 266
        },
        {
          "output_type": "display_data",
          "data": {
            "text/plain": [
              "<Figure size 1152x360 with 1 Axes>"
            ],
            "image/png": "[encoded data removed]"
          },
          "metadata": {}
        }
      ]
    },
    {
      "cell_type": "code",
      "source": [
        "plt.figure(figsize=(16,5))\n",
        "#pie chart for std credit score\n",
        "plt.subplot(1,2,1)\n",
        "label = std.Payment_Behaviour.value_counts().index\n",
        "label_count = std.Payment_Behaviour.value_counts().values\n",
        "plt.pie(data=std, x=label_count, labels=label, autopct='%1.1f%%', radius=1)\n"
      ],
      "metadata": {
        "colab": {
          "base_uri": "https://localhost:8080/",
          "height": 615
        },
        "id": "7C8zUcG31Nhf",
        "outputId": "08f4282c-2897-4da0-85d2-4412cf5f0856"
      },
      "execution_count": 269,
      "outputs": [
        {
          "output_type": "execute_result",
          "data": {
            "text/plain": [
              "([<matplotlib.patches.Wedge at 0x7f2df21d7890>,\n",
              "  <matplotlib.patches.Wedge at 0x7f2df21e11d0>,\n",
              "  <matplotlib.patches.Wedge at 0x7f2df21e1a90>,\n",
              "  <matplotlib.patches.Wedge at 0x7f2df21eb250>,\n",
              "  <matplotlib.patches.Wedge at 0x7f2df21ebc90>,\n",
              "  <matplotlib.patches.Wedge at 0x7f2df21f8550>],\n",
              " [Text(0.7360541166585506, 0.8174498989846418, 'Low_spent_Small_value_payments'),\n",
              "  Text(-0.7223769997100772, 0.8295610105892558, 'High_spent_Medium_value_payments'),\n",
              "  Text(-1.0682245856014718, -0.2624809225764112, 'High_spent_Large_value_payments'),\n",
              "  Text(-0.4166148391410076, -1.0180530810363047, 'Low_spent_Medium_value_payments'),\n",
              "  Text(0.4898311382208104, -0.9849190098832012, 'High_spent_Small_value_payments'),\n",
              "  Text(1.0300261444602583, -0.38606494496177096, 'Low_spent_Large_value_payments')],\n",
              " [Text(0.4014840636319366, 0.44588176308253186, '26.7%'),\n",
              "  Text(-0.3940238180236784, 0.4524878239577758, '19.5%'),\n",
              "  Text(-0.5826679557826209, -0.14317141231440608, '15.4%'),\n",
              "  Text(-0.22724445771327684, -0.555301680565257, '14.6%'),\n",
              "  Text(0.26718062084771477, -0.5372285508453825, '12.5%'),\n",
              "  Text(0.5618324424328681, -0.21058087907005688, '11.4%')])"
            ]
          },
          "metadata": {},
          "execution_count": 269
        },
        {
          "output_type": "display_data",
          "data": {
            "text/plain": [
              "<Figure size 1152x360 with 1 Axes>"
            ],
            "image/png": "[encoded data removed]"
          },
          "metadata": {}
        }
      ]
    },
    {
      "cell_type": "code",
      "source": [
        "plt.figure(figsize=(16,5))\n",
        "#pie chart for poor credit score\n",
        "plt.subplot(1,2,1)\n",
        "label = poor.Payment_Behaviour.value_counts().index\n",
        "label_count = poor.Payment_Behaviour.value_counts().values\n",
        "plt.pie(data=poor, x=label_count, labels=label, autopct='%1.1f%%', radius=1)"
      ],
      "metadata": {
        "colab": {
          "base_uri": "https://localhost:8080/",
          "height": 615
        },
        "id": "CZseeCYf1iyW",
        "outputId": "c9a85128-33ef-4502-d056-0a31eda62142"
      },
      "execution_count": 268,
      "outputs": [
        {
          "output_type": "execute_result",
          "data": {
            "text/plain": [
              "([<matplotlib.patches.Wedge at 0x7f2df2273690>,\n",
              "  <matplotlib.patches.Wedge at 0x7f2df2273f50>,\n",
              "  <matplotlib.patches.Wedge at 0x7f2df227c810>,\n",
              "  <matplotlib.patches.Wedge at 0x7f2df22060d0>,\n",
              "  <matplotlib.patches.Wedge at 0x7f2df2206b10>,\n",
              "  <matplotlib.patches.Wedge at 0x7f2df22113d0>],\n",
              " [Text(0.5274184600894487, 0.9653133004143654, 'Low_spent_Small_value_payments'),\n",
              "  Text(-0.9760882882522618, 0.5071998161836908, 'High_spent_Medium_value_payments'),\n",
              "  Text(-0.9458562322041646, -0.5615656577823662, 'Low_spent_Medium_value_payments'),\n",
              "  Text(-0.19534755510661775, -1.0825152805913951, 'High_spent_Small_value_payments'),\n",
              "  Text(0.5592887729125544, -0.9472043435784959, 'High_spent_Large_value_payments'),\n",
              "  Text(1.0355808605457406, -0.3709073755957724, 'Low_spent_Large_value_payments')],\n",
              " [Text(0.28768279641242656, 0.5265345274987446, '34.1%'),\n",
              "  Text(-0.5324117935921427, 0.27665444519110405, '16.6%'),\n",
              "  Text(-0.5159215812022716, -0.30630854060856333, '15.7%'),\n",
              "  Text(-0.10655321187633694, -0.5904628803225791, '11.5%'),\n",
              "  Text(0.3050666034068478, -0.5166569146791795, '11.1%'),\n",
              "  Text(0.5648622875704039, -0.2023131139613304, '10.9%')])"
            ]
          },
          "metadata": {},
          "execution_count": 268
        },
        {
          "output_type": "display_data",
          "data": {
            "text/plain": [
              "<Figure size 1152x360 with 1 Axes>"
            ],
            "image/png": "[encoded data removed]"
          },
          "metadata": {}
        }
      ]
    },
    {
      "cell_type": "markdown",
      "source": [
        "From the above figures it can be interpreted that Payment Behaviour does not affect credit score."
      ],
      "metadata": {
        "id": "nHWKHBsh2eb4"
      }
    },
    {
      "cell_type": "markdown",
      "source": [
        "22. Monthly Balance"
      ],
      "metadata": {
        "id": "QXje61r22sHf"
      }
    },
    {
      "cell_type": "code",
      "source": [
        "print('Good : ',good.Monthly_Balance.median())\n",
        "print(\"*\"*10)\n",
        "print('Standard : ',std.Monthly_Balance.median())\n",
        "print(\"*\"*10)\n",
        "print('Poor : ',poor.Monthly_Balance.median())"
      ],
      "metadata": {
        "colab": {
          "base_uri": "https://localhost:8080/"
        },
        "id": "MDryUkt31nLb",
        "outputId": "fecab534-216d-40e5-c312-80d017806abc"
      },
      "execution_count": 275,
      "outputs": [
        {
          "output_type": "stream",
          "name": "stdout",
          "text": [
            "Good :  400.8697319478582\n",
            "**********\n",
            "Standard :  343.8525117701564\n",
            "**********\n",
            "Poor :  299.42797548559395\n"
          ]
        }
      ]
    },
    {
      "cell_type": "code",
      "source": [
        "print('Good : ',good.Monthly_Balance.mean())\n",
        "print(\"*\"*10)\n",
        "print('Standard : ',std.Monthly_Balance.mean())\n",
        "print(\"*\"*10)\n",
        "print('Poor : ',poor.Monthly_Balance.mean())"
      ],
      "metadata": {
        "colab": {
          "base_uri": "https://localhost:8080/"
        },
        "id": "cLy7ayw43AsJ",
        "outputId": "359fabfd-372c-4f1b-8f21-80878e68bd00"
      },
      "execution_count": 276,
      "outputs": [
        {
          "output_type": "stream",
          "name": "stdout",
          "text": [
            "Good :  -1.8960940462646946e+22\n",
            "**********\n",
            "Standard :  -4.438610841624024e+22\n",
            "**********\n",
            "Poor :  -1.1634265237978895e+22\n"
          ]
        }
      ]
    },
    {
      "cell_type": "code",
      "source": [
        "plt.figure(figsize=(16,5))\n",
        "plt.subplot(1,3,1)\n",
        "plt.title('Good Credit Score')\n",
        "plt.hist(good.Monthly_Balance , bins = 6,edgecolor ='black') \n",
        "plt.subplot(1,3,2)\n",
        "plt.title('Standard Credit Score')\n",
        "plt.hist(std.Monthly_Balance , bins = 6,edgecolor ='black')\n",
        "plt.subplot(1,3,3)\n",
        "plt.title('Poor Credit Score')\n",
        "plt.hist(poor.Monthly_Balance , bins = 6,edgecolor ='black')"
      ],
      "metadata": {
        "colab": {
          "base_uri": "https://localhost:8080/",
          "height": 418
        },
        "id": "P2Z7PYzR3D4M",
        "outputId": "5666bcd3-5ffb-46de-ad0a-9085da859adc"
      },
      "execution_count": 277,
      "outputs": [
        {
          "output_type": "execute_result",
          "data": {
            "text/plain": [
              "(array([1.000e+00, 0.000e+00, 0.000e+00, 0.000e+00, 0.000e+00, 2.865e+04]),\n",
              " array([-3.33333333e+26, -2.77777778e+26, -2.22222222e+26, -1.66666667e+26,\n",
              "        -1.11111111e+26, -5.55555556e+25,  1.60204052e+03]),\n",
              " <a list of 6 Patch objects>)"
            ]
          },
          "metadata": {},
          "execution_count": 277
        },
        {
          "output_type": "display_data",
          "data": {
            "text/plain": [
              "<Figure size 1152x360 with 3 Axes>"
            ],
            "image/png": "[encoded data removed]"
          },
          "metadata": {
            "needs_background": "light"
          }
        }
      ]
    },
    {
      "cell_type": "markdown",
      "source": [
        "Dealing with Missing Data"
      ],
      "metadata": {
        "id": "MyVRoBzJT10P"
      }
    },
    {
      "cell_type": "code",
      "source": [
        "#Removing unwanted columns\n",
        "def drop_unimportant_features(DataFrame):\n",
        "  Feature_list=['ID', 'Customer_ID', 'SSN', 'Name']\n",
        "  DataFrame.drop(Feature_list, axis=1, inplace=True)\n",
        "drop_unimportant_features(dataset)"
      ],
      "metadata": {
        "id": "G2W2YRqLleEI"
      },
      "execution_count": 335,
      "outputs": []
    },
    {
      "cell_type": "code",
      "source": [
        "#Handle null values by replacig them with the median value\n",
        "dataset['Age']=dataset['Age'].fillna(dataset['Age'].median())\n",
        "\n",
        "dataset['Changed_Credit_Limit']=dataset['Changed_Credit_Limit'].fillna(dataset['Changed_Credit_Limit'].median())\n",
        "\n",
        "dataset['Monthly_Inhand_Salary']=dataset['Monthly_Inhand_Salary'].fillna(dataset['Monthly_Inhand_Salary'].median())\n",
        "\n",
        "dataset['Num_of_Delayed_Payment']=dataset['Num_of_Delayed_Payment'].fillna(dataset['Num_of_Delayed_Payment'].median())\n",
        "\n",
        "dataset['Num_Credit_Inquiries']=dataset['Num_Credit_Inquiries'].fillna(dataset['Num_Credit_Inquiries'].median())\n",
        "\n",
        "dataset['Amount_invested_monthly']=dataset['Amount_invested_monthly'].fillna(dataset['Amount_invested_monthly'].median())\n",
        "\n",
        "dataset['Monthly_Balance']=dataset['Monthly_Balance'].fillna(dataset['Monthly_Balance'].median())\n",
        "\n",
        "#Handle null values by replacig them with the mode value\n",
        "dataset['Type_of_Loan'] = dataset['Type_of_Loan'].fillna(dataset['Type_of_Loan'].mode()[0])\n",
        "\n",
        "dataset['Occupation'] = dataset['Occupation'].fillna(dataset['Occupation'].mode()[0])\n",
        "\n",
        "dataset['Credit_Mix'] = dataset['Credit_Mix'].fillna(dataset['Credit_Mix'].mode()[0])\n",
        "\n",
        "dataset['Payment_Behaviour'] = dataset['Payment_Behaviour'].fillna(dataset['Payment_Behaviour'].mode()[0])"
      ],
      "metadata": {
        "id": "FFO4zIJzZLQW"
      },
      "execution_count": 352,
      "outputs": []
    },
    {
      "cell_type": "code",
      "source": [
        "#The Credit_History_Age feature has values like '22 Years and 9 Months'.\n",
        "# We will try to convert this value into 22.75 (the unit will be years)\n",
        "\n",
        "#Split the feature into two based on ' and '\n",
        "dataset[['Credit_Hist_yr', 'Credit_Hist_mnt']]=dataset['Credit_History_Age'].str.split(pat=' and ', expand=True)\n",
        "\n",
        "# Typecast to float\n",
        "dataset['Credit_Hist_yr']=dataset['Credit_Hist_yr'].str.rstrip(' Years').astype('float')\n",
        "dataset['Credit_Hist_mnt']=dataset['Credit_Hist_mnt'].str.rstrip(' Months').astype('float')\n",
        "\n",
        "#Add the two features - unit is years\n",
        "dataset['Credit_Hist_yr'] = dataset['Credit_Hist_mnt'] + (dataset['Credit_Hist_mnt']/12)\n",
        "\n",
        "#Drop the features that are not required\n",
        "dataset.drop(['Credit_History_Age','Credit_Hist_mnt'], axis=1, inplace=True)\n",
        "\n",
        "#Handle null values by replacig them with the median value\n",
        "dataset['Credit_Hist_yr']=dataset['Credit_Hist_yr'].fillna(dataset['Credit_Hist_yr'].median())"
      ],
      "metadata": {
        "id": "cePmFWjle7zp"
      },
      "execution_count": 337,
      "outputs": []
    },
    {
      "cell_type": "code",
      "source": [
        "dataset.info()"
      ],
      "metadata": {
        "colab": {
          "base_uri": "https://localhost:8080/"
        },
        "id": "sON2SsAlrPX4",
        "outputId": "1207e6bc-5504-488c-a652-afaaea53dc35"
      },
      "execution_count": 353,
      "outputs": [
        {
          "output_type": "stream",
          "name": "stdout",
          "text": [
            "<class 'pandas.core.frame.DataFrame'>\n",
            "RangeIndex: 100000 entries, 0 to 99999\n",
            "Data columns (total 24 columns):\n",
            " #   Column                    Non-Null Count   Dtype  \n",
            "---  ------                    --------------   -----  \n",
            " 0   Month                     100000 non-null  object \n",
            " 1   Age                       100000 non-null  float64\n",
            " 2   Occupation                100000 non-null  object \n",
            " 3   Annual_Income             100000 non-null  float64\n",
            " 4   Monthly_Inhand_Salary     100000 non-null  float64\n",
            " 5   Num_Bank_Accounts         100000 non-null  int64  \n",
            " 6   Num_Credit_Card           100000 non-null  int64  \n",
            " 7   Interest_Rate             100000 non-null  int64  \n",
            " 8   Num_of_Loan               100000 non-null  int64  \n",
            " 9   Type_of_Loan              100000 non-null  object \n",
            " 10  Delay_from_due_date       100000 non-null  int64  \n",
            " 11  Num_of_Delayed_Payment    100000 non-null  float64\n",
            " 12  Changed_Credit_Limit      100000 non-null  float64\n",
            " 13  Num_Credit_Inquiries      100000 non-null  float64\n",
            " 14  Credit_Mix                100000 non-null  object \n",
            " 15  Outstanding_Debt          100000 non-null  float64\n",
            " 16  Credit_Utilization_Ratio  100000 non-null  float64\n",
            " 17  Payment_of_Min_Amount     100000 non-null  object \n",
            " 18  Total_EMI_per_month       100000 non-null  float64\n",
            " 19  Amount_invested_monthly   100000 non-null  float64\n",
            " 20  Payment_Behaviour         100000 non-null  object \n",
            " 21  Monthly_Balance           100000 non-null  float64\n",
            " 22  Credit_Score              100000 non-null  object \n",
            " 23  Credit_Hist_yr            100000 non-null  float64\n",
            "dtypes: float64(12), int64(5), object(7)\n",
            "memory usage: 18.3+ MB\n"
          ]
        }
      ]
    },
    {
      "cell_type": "code",
      "source": [
        "dataset.isnull().sum() #All NULL values are removed"
      ],
      "metadata": {
        "colab": {
          "base_uri": "https://localhost:8080/"
        },
        "id": "2YwHY9cnrXDn",
        "outputId": "394df759-9ad7-47d5-b49a-b3acf61b3216"
      },
      "execution_count": 351,
      "outputs": [
        {
          "output_type": "execute_result",
          "data": {
            "text/plain": [
              "Month                       0\n",
              "Age                         0\n",
              "Occupation                  0\n",
              "Annual_Income               0\n",
              "Monthly_Inhand_Salary       0\n",
              "Num_Bank_Accounts           0\n",
              "Num_Credit_Card             0\n",
              "Interest_Rate               0\n",
              "Num_of_Loan                 0\n",
              "Type_of_Loan                0\n",
              "Delay_from_due_date         0\n",
              "Num_of_Delayed_Payment      0\n",
              "Changed_Credit_Limit        0\n",
              "Num_Credit_Inquiries        0\n",
              "Credit_Mix                  0\n",
              "Outstanding_Debt            0\n",
              "Credit_Utilization_Ratio    0\n",
              "Payment_of_Min_Amount       0\n",
              "Total_EMI_per_month         0\n",
              "Amount_invested_monthly     0\n",
              "Payment_Behaviour           0\n",
              "Monthly_Balance             0\n",
              "Credit_Score                0\n",
              "Credit_Hist_yr              0\n",
              "dtype: int64"
            ]
          },
          "metadata": {},
          "execution_count": 351
        }
      ]
    },
    {
      "cell_type": "code",
      "source": [
        "dataset"
      ],
      "metadata": {
        "colab": {
          "base_uri": "https://localhost:8080/",
          "height": 1000
        },
        "id": "BUTZUSisuU6o",
        "outputId": "2d37537a-5f02-4fd1-8c57-eb12f82c935b"
      },
      "execution_count": 354,
      "outputs": [
        {
          "output_type": "execute_result",
          "data": {
            "text/plain": [
              "          Month   Age Occupation  Annual_Income  Monthly_Inhand_Salary  \\\n",
              "0       January  23.0  Scientist       19114.12            1824.843333   \n",
              "1      February  23.0  Scientist       19114.12            3093.745000   \n",
              "2         March  33.0  Scientist       19114.12            3093.745000   \n",
              "3         April  23.0  Scientist       19114.12            3093.745000   \n",
              "4           May  23.0  Scientist       19114.12            1824.843333   \n",
              "...         ...   ...        ...            ...                    ...   \n",
              "99995     April  25.0   Mechanic       39628.99            3359.415833   \n",
              "99996       May  25.0   Mechanic       39628.99            3359.415833   \n",
              "99997      June  25.0   Mechanic       39628.99            3359.415833   \n",
              "99998      July  25.0   Mechanic       39628.99            3359.415833   \n",
              "99999    August  25.0   Mechanic       39628.99            3359.415833   \n",
              "\n",
              "       Num_Bank_Accounts  Num_Credit_Card  Interest_Rate  Num_of_Loan  \\\n",
              "0                      3                4              3            4   \n",
              "1                      3                4              3            4   \n",
              "2                      3                4              3            4   \n",
              "3                      3                4              3            4   \n",
              "4                      3                4              3            4   \n",
              "...                  ...              ...            ...          ...   \n",
              "99995                  4                6              7            2   \n",
              "99996                  4                6              7            2   \n",
              "99997                  4                6           5729            2   \n",
              "99998                  4                6              7            2   \n",
              "99999                  4                6              7            2   \n",
              "\n",
              "                                            Type_of_Loan  ...  Credit_Mix  \\\n",
              "0      Auto Loan, Credit-Builder Loan, Personal Loan,...  ...    Standard   \n",
              "1      Auto Loan, Credit-Builder Loan, Personal Loan,...  ...        Good   \n",
              "2      Auto Loan, Credit-Builder Loan, Personal Loan,...  ...        Good   \n",
              "3      Auto Loan, Credit-Builder Loan, Personal Loan,...  ...        Good   \n",
              "4      Auto Loan, Credit-Builder Loan, Personal Loan,...  ...        Good   \n",
              "...                                                  ...  ...         ...   \n",
              "99995                        Auto Loan, and Student Loan  ...    Standard   \n",
              "99996                        Auto Loan, and Student Loan  ...    Standard   \n",
              "99997                        Auto Loan, and Student Loan  ...        Good   \n",
              "99998                        Auto Loan, and Student Loan  ...        Good   \n",
              "99999                        Auto Loan, and Student Loan  ...        Good   \n",
              "\n",
              "       Outstanding_Debt  Credit_Utilization_Ratio  Payment_of_Min_Amount  \\\n",
              "0                809.98                 26.822620                     No   \n",
              "1                809.98                 31.944960                     No   \n",
              "2                809.98                 28.609352                     No   \n",
              "3                809.98                 31.377862                     No   \n",
              "4                809.98                 24.797347                     No   \n",
              "...                 ...                       ...                    ...   \n",
              "99995            502.38                 34.663572                     No   \n",
              "99996            502.38                 40.565631                     No   \n",
              "99997            502.38                 41.255522                     No   \n",
              "99998            502.38                 33.638208                     No   \n",
              "99999            502.38                 34.192463                     No   \n",
              "\n",
              "      Total_EMI_per_month  Amount_invested_monthly  \\\n",
              "0               49.574949                80.415295   \n",
              "1               49.574949               118.280222   \n",
              "2               49.574949                81.699521   \n",
              "3               49.574949               199.458074   \n",
              "4               49.574949                41.420153   \n",
              "...                   ...                      ...   \n",
              "99995           35.104023                60.971333   \n",
              "99996           35.104023                54.185950   \n",
              "99997           35.104023                24.028477   \n",
              "99998           35.104023               251.672582   \n",
              "99999           35.104023               167.163865   \n",
              "\n",
              "                      Payment_Behaviour Monthly_Balance  Credit_Score  \\\n",
              "0       High_spent_Small_value_payments      312.494089          Good   \n",
              "1        Low_spent_Large_value_payments      284.629162          Good   \n",
              "2       Low_spent_Medium_value_payments      331.209863          Good   \n",
              "3        Low_spent_Small_value_payments      223.451310          Good   \n",
              "4      High_spent_Medium_value_payments      341.489231          Good   \n",
              "...                                 ...             ...           ...   \n",
              "99995   High_spent_Large_value_payments      479.866228          Poor   \n",
              "99996  High_spent_Medium_value_payments      496.651610          Poor   \n",
              "99997   High_spent_Large_value_payments      516.809083          Poor   \n",
              "99998    Low_spent_Large_value_payments      319.164979      Standard   \n",
              "99999    Low_spent_Small_value_payments      393.673696          Poor   \n",
              "\n",
              "       Credit_Hist_yr  \n",
              "0            1.083333  \n",
              "1            5.416667  \n",
              "2            3.250000  \n",
              "3            4.333333  \n",
              "4            5.416667  \n",
              "...               ...  \n",
              "99995        6.500000  \n",
              "99996        7.583333  \n",
              "99997        8.666667  \n",
              "99998        9.750000  \n",
              "99999       10.833333  \n",
              "\n",
              "[100000 rows x 24 columns]"
            ],
            "text/html": [
              "\n",
              "  <div id=\"df-93e035f0-6bb2-456e-8c93-92b40969b163\">\n",
              "    <div class=\"colab-df-container\">\n",
              "      <div>\n",
              "<style scoped>\n",
              "    .dataframe tbody tr th:only-of-type {\n",
              "        vertical-align: middle;\n",
              "    }\n",
              "\n",
              "    .dataframe tbody tr th {\n",
              "        vertical-align: top;\n",
              "    }\n",
              "\n",
              "    .dataframe thead th {\n",
              "        text-align: right;\n",
              "    }\n",
              "</style>\n",
              "<table border=\"1\" class=\"dataframe\">\n",
              "  <thead>\n",
              "    <tr style=\"text-align: right;\">\n",
              "      <th></th>\n",
              "      <th>Month</th>\n",
              "      <th>Age</th>\n",
              "      <th>Occupation</th>\n",
              "      <th>Annual_Income</th>\n",
              "      <th>Monthly_Inhand_Salary</th>\n",
              "      <th>Num_Bank_Accounts</th>\n",
              "      <th>Num_Credit_Card</th>\n",
              "      <th>Interest_Rate</th>\n",
              "      <th>Num_of_Loan</th>\n",
              "      <th>Type_of_Loan</th>\n",
              "      <th>...</th>\n",
              "      <th>Credit_Mix</th>\n",
              "      <th>Outstanding_Debt</th>\n",
              "      <th>Credit_Utilization_Ratio</th>\n",
              "      <th>Payment_of_Min_Amount</th>\n",
              "      <th>Total_EMI_per_month</th>\n",
              "      <th>Amount_invested_monthly</th>\n",
              "      <th>Payment_Behaviour</th>\n",
              "      <th>Monthly_Balance</th>\n",
              "      <th>Credit_Score</th>\n",
              "      <th>Credit_Hist_yr</th>\n",
              "    </tr>\n",
              "  </thead>\n",
              "  <tbody>\n",
              "    <tr>\n",
              "      <th>0</th>\n",
              "      <td>January</td>\n",
              "      <td>23.0</td>\n",
              "      <td>Scientist</td>\n",
              "      <td>19114.12</td>\n",
              "      <td>1824.843333</td>\n",
              "      <td>3</td>\n",
              "      <td>4</td>\n",
              "      <td>3</td>\n",
              "      <td>4</td>\n",
              "      <td>Auto Loan, Credit-Builder Loan, Personal Loan,...</td>\n",
              "      <td>...</td>\n",
              "      <td>Standard</td>\n",
              "      <td>809.98</td>\n",
              "      <td>26.822620</td>\n",
              "      <td>No</td>\n",
              "      <td>49.574949</td>\n",
              "      <td>80.415295</td>\n",
              "      <td>High_spent_Small_value_payments</td>\n",
              "      <td>312.494089</td>\n",
              "      <td>Good</td>\n",
              "      <td>1.083333</td>\n",
              "    </tr>\n",
              "    <tr>\n",
              "      <th>1</th>\n",
              "      <td>February</td>\n",
              "      <td>23.0</td>\n",
              "      <td>Scientist</td>\n",
              "      <td>19114.12</td>\n",
              "      <td>3093.745000</td>\n",
              "      <td>3</td>\n",
              "      <td>4</td>\n",
              "      <td>3</td>\n",
              "      <td>4</td>\n",
              "      <td>Auto Loan, Credit-Builder Loan, Personal Loan,...</td>\n",
              "      <td>...</td>\n",
              "      <td>Good</td>\n",
              "      <td>809.98</td>\n",
              "      <td>31.944960</td>\n",
              "      <td>No</td>\n",
              "      <td>49.574949</td>\n",
              "      <td>118.280222</td>\n",
              "      <td>Low_spent_Large_value_payments</td>\n",
              "      <td>284.629162</td>\n",
              "      <td>Good</td>\n",
              "      <td>5.416667</td>\n",
              "    </tr>\n",
              "    <tr>\n",
              "      <th>2</th>\n",
              "      <td>March</td>\n",
              "      <td>33.0</td>\n",
              "      <td>Scientist</td>\n",
              "      <td>19114.12</td>\n",
              "      <td>3093.745000</td>\n",
              "      <td>3</td>\n",
              "      <td>4</td>\n",
              "      <td>3</td>\n",
              "      <td>4</td>\n",
              "      <td>Auto Loan, Credit-Builder Loan, Personal Loan,...</td>\n",
              "      <td>...</td>\n",
              "      <td>Good</td>\n",
              "      <td>809.98</td>\n",
              "      <td>28.609352</td>\n",
              "      <td>No</td>\n",
              "      <td>49.574949</td>\n",
              "      <td>81.699521</td>\n",
              "      <td>Low_spent_Medium_value_payments</td>\n",
              "      <td>331.209863</td>\n",
              "      <td>Good</td>\n",
              "      <td>3.250000</td>\n",
              "    </tr>\n",
              "    <tr>\n",
              "      <th>3</th>\n",
              "      <td>April</td>\n",
              "      <td>23.0</td>\n",
              "      <td>Scientist</td>\n",
              "      <td>19114.12</td>\n",
              "      <td>3093.745000</td>\n",
              "      <td>3</td>\n",
              "      <td>4</td>\n",
              "      <td>3</td>\n",
              "      <td>4</td>\n",
              "      <td>Auto Loan, Credit-Builder Loan, Personal Loan,...</td>\n",
              "      <td>...</td>\n",
              "      <td>Good</td>\n",
              "      <td>809.98</td>\n",
              "      <td>31.377862</td>\n",
              "      <td>No</td>\n",
              "      <td>49.574949</td>\n",
              "      <td>199.458074</td>\n",
              "      <td>Low_spent_Small_value_payments</td>\n",
              "      <td>223.451310</td>\n",
              "      <td>Good</td>\n",
              "      <td>4.333333</td>\n",
              "    </tr>\n",
              "    <tr>\n",
              "      <th>4</th>\n",
              "      <td>May</td>\n",
              "      <td>23.0</td>\n",
              "      <td>Scientist</td>\n",
              "      <td>19114.12</td>\n",
              "      <td>1824.843333</td>\n",
              "      <td>3</td>\n",
              "      <td>4</td>\n",
              "      <td>3</td>\n",
              "      <td>4</td>\n",
              "      <td>Auto Loan, Credit-Builder Loan, Personal Loan,...</td>\n",
              "      <td>...</td>\n",
              "      <td>Good</td>\n",
              "      <td>809.98</td>\n",
              "      <td>24.797347</td>\n",
              "      <td>No</td>\n",
              "      <td>49.574949</td>\n",
              "      <td>41.420153</td>\n",
              "      <td>High_spent_Medium_value_payments</td>\n",
              "      <td>341.489231</td>\n",
              "      <td>Good</td>\n",
              "      <td>5.416667</td>\n",
              "    </tr>\n",
              "    <tr>\n",
              "      <th>...</th>\n",
              "      <td>...</td>\n",
              "      <td>...</td>\n",
              "      <td>...</td>\n",
              "      <td>...</td>\n",
              "      <td>...</td>\n",
              "      <td>...</td>\n",
              "      <td>...</td>\n",
              "      <td>...</td>\n",
              "      <td>...</td>\n",
              "      <td>...</td>\n",
              "      <td>...</td>\n",
              "      <td>...</td>\n",
              "      <td>...</td>\n",
              "      <td>...</td>\n",
              "      <td>...</td>\n",
              "      <td>...</td>\n",
              "      <td>...</td>\n",
              "      <td>...</td>\n",
              "      <td>...</td>\n",
              "      <td>...</td>\n",
              "      <td>...</td>\n",
              "    </tr>\n",
              "    <tr>\n",
              "      <th>99995</th>\n",
              "      <td>April</td>\n",
              "      <td>25.0</td>\n",
              "      <td>Mechanic</td>\n",
              "      <td>39628.99</td>\n",
              "      <td>3359.415833</td>\n",
              "      <td>4</td>\n",
              "      <td>6</td>\n",
              "      <td>7</td>\n",
              "      <td>2</td>\n",
              "      <td>Auto Loan, and Student Loan</td>\n",
              "      <td>...</td>\n",
              "      <td>Standard</td>\n",
              "      <td>502.38</td>\n",
              "      <td>34.663572</td>\n",
              "      <td>No</td>\n",
              "      <td>35.104023</td>\n",
              "      <td>60.971333</td>\n",
              "      <td>High_spent_Large_value_payments</td>\n",
              "      <td>479.866228</td>\n",
              "      <td>Poor</td>\n",
              "      <td>6.500000</td>\n",
              "    </tr>\n",
              "    <tr>\n",
              "      <th>99996</th>\n",
              "      <td>May</td>\n",
              "      <td>25.0</td>\n",
              "      <td>Mechanic</td>\n",
              "      <td>39628.99</td>\n",
              "      <td>3359.415833</td>\n",
              "      <td>4</td>\n",
              "      <td>6</td>\n",
              "      <td>7</td>\n",
              "      <td>2</td>\n",
              "      <td>Auto Loan, and Student Loan</td>\n",
              "      <td>...</td>\n",
              "      <td>Standard</td>\n",
              "      <td>502.38</td>\n",
              "      <td>40.565631</td>\n",
              "      <td>No</td>\n",
              "      <td>35.104023</td>\n",
              "      <td>54.185950</td>\n",
              "      <td>High_spent_Medium_value_payments</td>\n",
              "      <td>496.651610</td>\n",
              "      <td>Poor</td>\n",
              "      <td>7.583333</td>\n",
              "    </tr>\n",
              "    <tr>\n",
              "      <th>99997</th>\n",
              "      <td>June</td>\n",
              "      <td>25.0</td>\n",
              "      <td>Mechanic</td>\n",
              "      <td>39628.99</td>\n",
              "      <td>3359.415833</td>\n",
              "      <td>4</td>\n",
              "      <td>6</td>\n",
              "      <td>5729</td>\n",
              "      <td>2</td>\n",
              "      <td>Auto Loan, and Student Loan</td>\n",
              "      <td>...</td>\n",
              "      <td>Good</td>\n",
              "      <td>502.38</td>\n",
              "      <td>41.255522</td>\n",
              "      <td>No</td>\n",
              "      <td>35.104023</td>\n",
              "      <td>24.028477</td>\n",
              "      <td>High_spent_Large_value_payments</td>\n",
              "      <td>516.809083</td>\n",
              "      <td>Poor</td>\n",
              "      <td>8.666667</td>\n",
              "    </tr>\n",
              "    <tr>\n",
              "      <th>99998</th>\n",
              "      <td>July</td>\n",
              "      <td>25.0</td>\n",
              "      <td>Mechanic</td>\n",
              "      <td>39628.99</td>\n",
              "      <td>3359.415833</td>\n",
              "      <td>4</td>\n",
              "      <td>6</td>\n",
              "      <td>7</td>\n",
              "      <td>2</td>\n",
              "      <td>Auto Loan, and Student Loan</td>\n",
              "      <td>...</td>\n",
              "      <td>Good</td>\n",
              "      <td>502.38</td>\n",
              "      <td>33.638208</td>\n",
              "      <td>No</td>\n",
              "      <td>35.104023</td>\n",
              "      <td>251.672582</td>\n",
              "      <td>Low_spent_Large_value_payments</td>\n",
              "      <td>319.164979</td>\n",
              "      <td>Standard</td>\n",
              "      <td>9.750000</td>\n",
              "    </tr>\n",
              "    <tr>\n",
              "      <th>99999</th>\n",
              "      <td>August</td>\n",
              "      <td>25.0</td>\n",
              "      <td>Mechanic</td>\n",
              "      <td>39628.99</td>\n",
              "      <td>3359.415833</td>\n",
              "      <td>4</td>\n",
              "      <td>6</td>\n",
              "      <td>7</td>\n",
              "      <td>2</td>\n",
              "      <td>Auto Loan, and Student Loan</td>\n",
              "      <td>...</td>\n",
              "      <td>Good</td>\n",
              "      <td>502.38</td>\n",
              "      <td>34.192463</td>\n",
              "      <td>No</td>\n",
              "      <td>35.104023</td>\n",
              "      <td>167.163865</td>\n",
              "      <td>Low_spent_Small_value_payments</td>\n",
              "      <td>393.673696</td>\n",
              "      <td>Poor</td>\n",
              "      <td>10.833333</td>\n",
              "    </tr>\n",
              "  </tbody>\n",
              "</table>\n",
              "<p>100000 rows × 24 columns</p>\n",
              "</div>\n",
              "      <button class=\"colab-df-convert\" onclick=\"convertToInteractive('df-93e035f0-6bb2-456e-8c93-92b40969b163')\"\n",
              "              title=\"Convert this dataframe to an interactive table.\"\n",
              "              style=\"display:none;\">\n",
              "        \n",
              "  <svg xmlns=\"http://www.w3.org/2000/svg\" height=\"24px\"viewBox=\"0 0 24 24\"\n",
              "       width=\"24px\">\n",
              "    <path d=\"M0 0h24v24H0V0z\" fill=\"none\"/>\n",
              "    <path d=\"M18.56 5.44l.94 2.06.94-2.06 2.06-.94-2.06-.94-.94-2.06-.94 2.06-2.06.94zm-11 1L8.5 8.5l.94-2.06 2.06-.94-2.06-.94L8.5 2.5l-.94 2.06-2.06.94zm10 10l.94 2.06.94-2.06 2.06-.94-2.06-.94-.94-2.06-.94 2.06-2.06.94z\"/><path d=\"M17.41 7.96l-1.37-1.37c-.4-.4-.92-.59-1.43-.59-.52 0-1.04.2-1.43.59L10.3 9.45l-7.72 7.72c-.78.78-.78 2.05 0 2.83L4 21.41c.39.39.9.59 1.41.59.51 0 1.02-.2 1.41-.59l7.78-7.78 2.81-2.81c.8-.78.8-2.07 0-2.86zM5.41 20L4 18.59l7.72-7.72 1.47 1.35L5.41 20z\"/>\n",
              "  </svg>\n",
              "      </button>\n",
              "      \n",
              "  <style>\n",
              "    .colab-df-container {\n",
              "      display:flex;\n",
              "      flex-wrap:wrap;\n",
              "      gap: 12px;\n",
              "    }\n",
              "\n",
              "    .colab-df-convert {\n",
              "      background-color: #E8F0FE;\n",
              "      border: none;\n",
              "      border-radius: 50%;\n",
              "      cursor: pointer;\n",
              "      display: none;\n",
              "      fill: #1967D2;\n",
              "      height: 32px;\n",
              "      padding: 0 0 0 0;\n",
              "      width: 32px;\n",
              "    }\n",
              "\n",
              "    .colab-df-convert:hover {\n",
              "      background-color: #E2EBFA;\n",
              "      box-shadow: 0px 1px 2px rgba(60, 64, 67, 0.3), 0px 1px 3px 1px rgba(60, 64, 67, 0.15);\n",
              "      fill: #174EA6;\n",
              "    }\n",
              "\n",
              "    [theme=dark] .colab-df-convert {\n",
              "      background-color: #3B4455;\n",
              "      fill: #D2E3FC;\n",
              "    }\n",
              "\n",
              "    [theme=dark] .colab-df-convert:hover {\n",
              "      background-color: #434B5C;\n",
              "      box-shadow: 0px 1px 3px 1px rgba(0, 0, 0, 0.15);\n",
              "      filter: drop-shadow(0px 1px 2px rgba(0, 0, 0, 0.3));\n",
              "      fill: #FFFFFF;\n",
              "    }\n",
              "  </style>\n",
              "\n",
              "      <script>\n",
              "        const buttonEl =\n",
              "          document.querySelector('#df-93e035f0-6bb2-456e-8c93-92b40969b163 button.colab-df-convert');\n",
              "        buttonEl.style.display =\n",
              "          google.colab.kernel.accessAllowed ? 'block' : 'none';\n",
              "\n",
              "        async function convertToInteractive(key) {\n",
              "          const element = document.querySelector('#df-93e035f0-6bb2-456e-8c93-92b40969b163');\n",
              "          const dataTable =\n",
              "            await google.colab.kernel.invokeFunction('convertToInteractive',\n",
              "                                                     [key], {});\n",
              "          if (!dataTable) return;\n",
              "\n",
              "          const docLinkHtml = 'Like what you see? Visit the ' +\n",
              "            '<a target=\"_blank\" href=https://colab.research.google.com/notebooks/data_table.ipynb>data table notebook</a>'\n",
              "            + ' to learn more about interactive tables.';\n",
              "          element.innerHTML = '';\n",
              "          dataTable['output_type'] = 'display_data';\n",
              "          await google.colab.output.renderOutput(dataTable, element);\n",
              "          const docLink = document.createElement('div');\n",
              "          docLink.innerHTML = docLinkHtml;\n",
              "          element.appendChild(docLink);\n",
              "        }\n",
              "      </script>\n",
              "    </div>\n",
              "  </div>\n",
              "  "
            ]
          },
          "metadata": {},
          "execution_count": 354
        }
      ]
    }
  ]
}